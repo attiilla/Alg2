{
 "cells": [
  {
   "cell_type": "code",
   "execution_count": 174,
   "metadata": {},
   "outputs": [],
   "source": [
    "import numpy as np\n",
    "import pandas as pd\n",
    "import matplotlib.pyplot as plt\n",
    "from sklearn.decomposition import PCA\n",
    "from sortedcontainers import SortedDict\n"
   ]
  },
  {
   "cell_type": "code",
   "execution_count": 175,
   "metadata": {},
   "outputs": [],
   "source": [
    "def PrintSortDict(sd):\n",
    "    for k in sd.keys():\n",
    "        print(f\"{k}: {sd[k]}\")\n",
    "\n",
    "def PrintScope(sd):\n",
    "    for k in sd.keys():\n",
    "        print(f\"Vizinhos de {k.id}: \")\n",
    "        for kk in sd[k].keys():\n",
    "            print(f\"{kk.id}: {sd[k][kk]}\")"
   ]
  },
  {
   "cell_type": "code",
   "execution_count": 176,
   "metadata": {},
   "outputs": [],
   "source": [
    "class Point:\n",
    "    id = 1\n",
    "    def __init__(self,a,b, c = 0, shake=1e-5):\n",
    "        self.id = Point.id\n",
    "        Point.id+=1\n",
    "        shakes = np.random.uniform(-shake, shake, 2)\n",
    "        self.x = a+shakes[0]\n",
    "        self.y = b+shakes[1]\n",
    "        self.classe = c\n",
    "\n",
    "    def __add__(self, other):\n",
    "        if isinstance(other, Point):\n",
    "            return Point(self.x+other.x, self.y+other.y)\n",
    "        else:\n",
    "            raise TypeError(\"Unsupported operand type\")\n",
    "        \n",
    "    def __sub__(self, other):\n",
    "        if isinstance(other, Point):\n",
    "            return Point(self.x-other.x, self.y-other.y)\n",
    "        else:\n",
    "            raise TypeError(\"Unsupported operand type\")\n",
    "        \n",
    "    def __str__(self):\n",
    "        return str(self.id)+\": \"+str(self.x)+\"   \"+str(self.y)\n",
    "    \n",
    "    def __lt__(self,other):\n",
    "        if isinstance(other, Point):\n",
    "            vec_prod = (self.x*other.y)-(self.y*other.x)\n",
    "            if vec_prod>0:\n",
    "                return True\n",
    "            elif vec_prod<0:\n",
    "                return False\n",
    "            else:\n",
    "                raise Exception(\"Segments are parallel\")\n",
    "        else:\n",
    "            raise TypeError(\"Unsupported operand type\")\n",
    "        \n",
    "    def Reset():\n",
    "        Point.id = 1\n",
    "\n",
    "def X_Coord(point):\n",
    "    return point.x"
   ]
  },
  {
   "cell_type": "code",
   "execution_count": 177,
   "metadata": {},
   "outputs": [],
   "source": [
    "class Segment:\n",
    "    id = 1\n",
    "    def __init__(self,a: Point, b: Point, shake_seg = 0):\n",
    "        if b.x<a.x:\n",
    "            temp = a\n",
    "            a = b\n",
    "            b = temp\n",
    "        self.bgn = a+Point(0,0,shake=shake_seg)\n",
    "        self.end = b+Point(0,0,shake=shake_seg)\n",
    "        self.slope = (self.end.y-self.bgn.y)/(self.end.x-self.bgn.x)\n",
    "        self.intercept = self.end.y - (self.slope * self.end.x)\n",
    "        self.id = Segment.id\n",
    "        Segment.id+=1\n",
    "        \n",
    "    \n",
    "    def Y_At_X(self,x):\n",
    "        return self.slope*x+self.intercept\n",
    "\n",
    "\n",
    "    def Invert(self):\n",
    "        temp = self.bgn\n",
    "        self.bgn = self.end\n",
    "        self.end = temp\n",
    "\n",
    "    def __str__(self):\n",
    "        return \"Id: \"+str(self.id)+\"\\nBegin: \"+str(self.bgn.x)+\"   \"+str(self.bgn.y)+\"\\nEnd: \"+str(self.end.x)+\"   \"+str(self.end.y)\n",
    "    \n",
    "    def __lt__(self,other):\n",
    "        if isinstance(other, Segment):\n",
    "            return self.bgn.x < other.bgn.x\n",
    "        else:\n",
    "            raise TypeError(\"Unsupported operand type\")\n",
    "        \n",
    "    def Reset():\n",
    "        Segment.id = 1"
   ]
  },
  {
   "cell_type": "code",
   "execution_count": 178,
   "metadata": {},
   "outputs": [],
   "source": [
    "class LimitPoint:\n",
    "    def __init__(self,p,i):\n",
    "        self.point = p\n",
    "        self.is_end = i\n",
    "\n",
    "    def __lt__(self,other):\n",
    "        if isinstance(other, LimitPoint):\n",
    "            return self.point.x < other.point.x\n",
    "        else:\n",
    "            raise TypeError(\"Unsupported operand type\")"
   ]
  },
  {
   "cell_type": "markdown",
   "metadata": {},
   "source": [
    "## Primitivas"
   ]
  },
  {
   "cell_type": "code",
   "execution_count": 179,
   "metadata": {},
   "outputs": [],
   "source": [
    "def Clockwise(a: Segment, b: Segment): #returns true if a is clockwise to b\n",
    "    frst_seg = a.end - a.bgn\n",
    "    scnd_seg = b.end - b.bgn\n",
    "    vec_prod = (frst_seg.x*scnd_seg.y)-(frst_seg.y*scnd_seg.x)\n",
    "    if vec_prod>0:\n",
    "        return True\n",
    "    elif vec_prod<0:\n",
    "        return False\n",
    "    else:\n",
    "        raise Exception(\"Segments are parallel\")"
   ]
  },
  {
   "cell_type": "code",
   "execution_count": 180,
   "metadata": {},
   "outputs": [],
   "source": [
    "def SegmentsIntercept(a: Segment,b: Segment):\n",
    "    check_one = Clockwise(a,Segment(a.bgn,b.bgn))\n",
    "    check_two = Clockwise(a,Segment(a.bgn,b.end))\n",
    "    if check_one==check_two:\n",
    "        return False\n",
    "    check_one = Clockwise(b,Segment(b.bgn,a.bgn))\n",
    "    check_two = Clockwise(b,Segment(b.bgn,a.end))\n",
    "    if check_one==check_two:\n",
    "        return False\n",
    "    return True"
   ]
  },
  {
   "cell_type": "markdown",
   "metadata": {},
   "source": [
    "## Data reading and pre-processing"
   ]
  },
  {
   "cell_type": "code",
   "execution_count": 181,
   "metadata": {},
   "outputs": [],
   "source": [
    "def SetTwoDimensions(df):\n",
    "    pca = PCA(n_components=2)\n",
    "    pca_result = pca.fit_transform(df)\n",
    "    df_pca = pd.DataFrame(data = pca_result, columns = ['x', 'y'])\n",
    "    return df_pca"
   ]
  },
  {
   "cell_type": "code",
   "execution_count": 182,
   "metadata": {},
   "outputs": [],
   "source": [
    "def PreProcessData(path, tgtCol):\n",
    "    df = pd.read_csv(path)\n",
    "    tgtData = df.iloc[:, tgtCol]  # Save the nth column\n",
    "    df = df.drop(df.columns[tgtCol], axis=1)\n",
    "    df = SetTwoDimensions(df)\n",
    "    df['target_data'] = tgtData\n",
    "    return df"
   ]
  },
  {
   "cell_type": "code",
   "execution_count": 183,
   "metadata": {},
   "outputs": [],
   "source": [
    "def ExtractPoints(df):\n",
    "    rb_tree_points = SortedDict(X_Coord)\n",
    "    for i in range(len(df)):\n",
    "        p = Point(df.loc[i, \"x\"], df.loc[i, \"y\"], df.loc[i,\"target_data\"])\n",
    "        rb_tree_points[p] = None\n",
    "    return rb_tree_points\n"
   ]
  },
  {
   "cell_type": "code",
   "execution_count": 184,
   "metadata": {},
   "outputs": [],
   "source": [
    "def ReadData(path, tgtCol):\n",
    "    df = PreProcessData(path, tgtCol)\n",
    "    rb_tree_points = ExtractPoints(df)\n",
    "    return rb_tree_points\n"
   ]
  },
  {
   "cell_type": "markdown",
   "metadata": {},
   "source": [
    "## Convex Hull"
   ]
  },
  {
   "cell_type": "code",
   "execution_count": 185,
   "metadata": {},
   "outputs": [],
   "source": [
    "def print_convex_hull(hull,points):\n",
    "    polar_hull = SortedDict()\n",
    "    for key in hull.keys():\n",
    "        polar_hull[key] = None\n",
    "\n",
    "    keys = list(polar_hull.keys())\n",
    "    x = []\n",
    "    y = []\n",
    "    for key in polar_hull.keys():\n",
    "        x.append(key.x)\n",
    "        y.append(key.y)\n",
    "    x.append(x[0])\n",
    "    y.append(y[0])\n",
    "\n",
    "    ps = []\n",
    "    for p in points.items():\n",
    "        ps.append(p[0])\n",
    "    xs = list(map(lambda p:p.x,ps))\n",
    "    ys = list(map(lambda p:p.y,ps))\n",
    "\n",
    "    plt.plot(x,y)\n",
    "    plt.scatter(xs,ys)\n",
    "    plt.show()"
   ]
  },
  {
   "cell_type": "code",
   "execution_count": 186,
   "metadata": {},
   "outputs": [],
   "source": [
    "def ConvexHull(rb_tree_points):\n",
    "    hull_points = SortedDict(lambda p:p.x)\n",
    "\n",
    "    p0 = rb_tree_points.peekitem(0)[0]\n",
    "    p1 = rb_tree_points.peekitem(1)[0]\n",
    "    p2 = rb_tree_points.peekitem(2)[0]\n",
    "\n",
    "    hull_points[p0] = None\n",
    "    hull_points[p1] = None\n",
    "    hull_points[p2] = None\n",
    "    \n",
    "    print_convex_hull(hull_points,rb_tree_points)\n",
    "\n",
    "    it_points = list(rb_tree_points.keys())\n",
    "    for p in it_points[3:]:\n",
    "        j = -1\n",
    "        \n",
    "        #Update upper bound\n",
    "        u = j\n",
    "        p_i_m1 = (j-1) % len(hull_points)\n",
    "        \n",
    "        while(Clockwise(\n",
    "                        Segment(hull_points.items()[p_i_m1][0],p),\n",
    "                        Segment(hull_points.items()[p_i_m1][0],hull_points.items()[u][0])\n",
    "                        )):\n",
    "            if(u != j):\n",
    "                hull_points.pop(hull_points.items()[u][0])\n",
    "            u = (u-1)%len(hull_points)\n",
    "            p_i_m1 = (u-1)%len(hull_points)\n",
    "        \n",
    "        #Update lower bound\n",
    "        l = 0\n",
    "        p_i_p2 = (l+1) % len(hull_points)\n",
    "\n",
    "        while(Clockwise(\n",
    "                        Segment(p,hull_points.items()[l][0]),\n",
    "                        Segment(p,hull_points.items()[p_i_p2][0])\n",
    "                        )\n",
    "            ):\n",
    "            if(l != u):\n",
    "                hull_points.pop(hull_points.items()[l][0])\n",
    "            l = (l+1)%len(hull_points)\n",
    "            p_i_p2 = (l+1)%len(hull_points)\n",
    "        \n",
    "        # Necessário encontrar uma função que insira o ponto em uma posição específica do ponto\n",
    "        hull_points[p] = None\n",
    "        print_convex_hull(hull_points,rb_tree_points)\n",
    "    return hull_points"
   ]
  },
  {
   "cell_type": "code",
   "execution_count": 187,
   "metadata": {},
   "outputs": [
    {
     "data": {
      "image/png": "[encoded data removed]",
      "text/plain": [
       "<Figure size 640x480 with 1 Axes>"
      ]
     },
     "metadata": {},
     "output_type": "display_data"
    },
    {
     "data": {
      "image/png": "[encoded data removed]",
      "text/plain": [
       "<Figure size 640x480 with 1 Axes>"
      ]
     },
     "metadata": {},
     "output_type": "display_data"
    },
    {
     "data": {
      "image/png": "[encoded data removed]",
      "text/plain": [
       "<Figure size 640x480 with 1 Axes>"
      ]
     },
     "metadata": {},
     "output_type": "display_data"
    }
   ],
   "source": [
    "import matplotlib.pyplot as plt\n",
    "rbt = SortedDict(lambda p: p.x)\n",
    "#Test convex hull\n",
    "p1 = Point(1,0)\n",
    "p2 = Point(2,3)\n",
    "p3 = Point(5,2)\n",
    "p4 = Point(6,5)\n",
    "p5 = Point(0,4)\n",
    "\n",
    "rbt[p1] = None\n",
    "rbt[p2] = None\n",
    "rbt[p3] = None\n",
    "rbt[p4] = None\n",
    "rbt[p5] = None\n",
    "\n",
    "ch = ConvexHull(rbt)"
   ]
  },
  {
   "cell_type": "markdown",
   "metadata": {},
   "source": [
    "## Sweep Line"
   ]
  },
  {
   "cell_type": "code",
   "execution_count": 142,
   "metadata": {},
   "outputs": [],
   "source": [
    "def GetSegments(convex_hull):\n",
    "    polar_hull = SortedDict()\n",
    "    for key in convex_hull.keys():\n",
    "        polar_hull[key] = None\n",
    "    n = len(polar_hull)\n",
    "    keys = list(polar_hull.keys())\n",
    "    segments_hull = SortedDict()\n",
    "    count = 0\n",
    "    for key in polar_hull.keys():\n",
    "        next_key = keys[(count + 1) % n]\n",
    "        s = Segment(key,next_key,shake_seg=1e-5)\n",
    "        count+=1\n",
    "        segments_hull[s.bgn.x] = (s,0)\n",
    "        segments_hull[s.end.x] = (s,1)\n",
    "    return segments_hull"
   ]
  },
  {
   "cell_type": "code",
   "execution_count": 165,
   "metadata": {},
   "outputs": [],
   "source": [
    "def SweepLine(segment_hull_one, segments_hull_two):\n",
    "    segments_set = segment_hull_one.copy()\n",
    "    segments_set.update(segments_hull_two)\n",
    "    scope = SortedDict()\n",
    "    for key in segments_set.keys():\n",
    "        print(key)\n",
    "        current_segment, end = segments_set[key]\n",
    "        if not end: #início do segmento\n",
    "            #print(f\"Início do segmento {current_segment.id}\")\n",
    "            comparisons = dict()\n",
    "            for comparable_segment in scope.keys():\n",
    "                aux = (current_segment.bgn.y>comparable_segment.Y_At_X(key))\n",
    "                comparisons[comparable_segment] = aux\n",
    "                scope[comparable_segment][current_segment] = not aux\n",
    "            scope[current_segment] = comparisons\n",
    "            \n",
    "        else:                          #fim do segmento\n",
    "            #print(f\"Fim do segmento {current_segment.id}\")\n",
    "            comparisons = scope[current_segment]\n",
    "            del scope[current_segment]\n",
    "            for comparable_segment in scope.keys():\n",
    "                aux = (current_segment.end.y>comparable_segment.Y_At_X(key))\n",
    "                if comparisons[comparable_segment] != aux:\n",
    "                    return True\n",
    "            \n",
    "    return False"
   ]
  },
  {
   "cell_type": "markdown",
   "metadata": {},
   "source": [
    "## Display"
   ]
  },
  {
   "cell_type": "markdown",
   "metadata": {},
   "source": [
    "## Testing"
   ]
  },
  {
   "cell_type": "code",
   "execution_count": 79,
   "metadata": {},
   "outputs": [
    {
     "name": "stdout",
     "output_type": "stream",
     "text": [
      "1: 1.0   0.0\n",
      "3: 2.0   2.0\n",
      "2: 0.0   2.0\n"
     ]
    }
   ],
   "source": [
    "Point.Reset()\n",
    "p1 = Point(1,0, shake=0)\n",
    "p2 = Point(0,2, shake=0)\n",
    "p3 = Point(2,2, shake=0)\n",
    "Point.Reset()\n",
    "polar_set = SortedDict()      #Points are being sorted according to polar coordinate\n",
    "polar_set[p1] = None\n",
    "polar_set[p2] = None\n",
    "polar_set[p3] = None\n",
    "for key in polar_set.keys():\n",
    "    print(key)"
   ]
  },
  {
   "cell_type": "code",
   "execution_count": 80,
   "metadata": {},
   "outputs": [
    {
     "name": "stdout",
     "output_type": "stream",
     "text": [
      "2: 0.0   2.0\n",
      "6: 0.003   3.0\n",
      "1: 1.0   0.0\n",
      "5: 1.5   3.0\n",
      "3: 2.0   2.0\n",
      "4: 2.0   3.0\n"
     ]
    }
   ],
   "source": [
    "Point.Reset()\n",
    "p1 = Point(1,0, shake=0)\n",
    "p2 = Point(0,2, shake=0)\n",
    "p3 = Point(2,2, shake=0)\n",
    "p4 = Point(2,3, shake=0)\n",
    "p5 = Point(1.5,3, shake=0)\n",
    "p6 = Point(0.003,3, shake=0)\n",
    "Point.Reset()\n",
    "xc_set = SortedDict(X_Coord)      #Points are being sorted according to x coordinate\n",
    "xc_set[p1] = None\n",
    "xc_set[p2] = None\n",
    "xc_set[p3] = None\n",
    "xc_set[p4] = None\n",
    "xc_set[p5] = None\n",
    "xc_set[p6] = None\n",
    "for key in xc_set.keys():\n",
    "    print(key)"
   ]
  },
  {
   "cell_type": "code",
   "execution_count": 145,
   "metadata": {},
   "outputs": [
    {
     "name": "stdout",
     "output_type": "stream",
     "text": [
      "Id: 5\n",
      "Begin: -2.0000001853967655   0.9999908526583813\n",
      "End: -0.9999838260520815   -5.493469204027943e-06\n",
      "\n",
      "\n",
      "Id: 4\n",
      "Begin: -1.9999930095598515   0.9999893152668412\n",
      "End: -3.4824992375555102e-06   3.00000464727971\n",
      "\n",
      "\n",
      "Id: 1\n",
      "Begin: -1.0000153783066725   -9.294293234959443e-06\n",
      "End: 1.000013058584532   -1.664675169613616e-05\n",
      "\n",
      "\n",
      "\n",
      "\n",
      "\n",
      "\n",
      "Id: 3\n",
      "Begin: 7.971588378259897e-06   2.9999967743526152\n",
      "End: 1.999998538813313   0.9999888501374778\n",
      "\n",
      "\n",
      "\n",
      "\n",
      "Id: 2\n",
      "Begin: 1.0000167720674396   -1.8775809054160617e-05\n",
      "End: 2.0000057357458787   1.0000009135154173\n",
      "\n",
      "\n",
      "\n",
      "\n",
      "\n",
      "\n"
     ]
    }
   ],
   "source": [
    "Segment.Reset()\n",
    "Point.Reset()\n",
    "p1 = Point(-1,0)\n",
    "p2 = Point(1,0)\n",
    "p3 = Point(-2,1)\n",
    "p4 = Point(2,1)\n",
    "p5 = Point(0,3)\n",
    "pentagon = SortedDict()\n",
    "pentagon[p1] = None\n",
    "pentagon[p2] = None\n",
    "pentagon[p3] = None\n",
    "pentagon[p4] = None\n",
    "pentagon[p5] = None\n",
    "pentagon_seg = GetSegments(pentagon)       #working\n",
    "for k in pentagon_seg.keys():\n",
    "    if pentagon_seg[k][1]==0:\n",
    "        print(pentagon_seg[k][0])\n",
    "    print(\"\\n\")"
   ]
  },
  {
   "cell_type": "code",
   "execution_count": 146,
   "metadata": {},
   "outputs": [
    {
     "name": "stdout",
     "output_type": "stream",
     "text": [
      "Id: 7\n",
      "Begin: 1.1332436466519476e-05   2.0000028922962976\n",
      "End: 3.000002588927641   2.9999944839766863\n",
      "\n",
      "\n",
      "Id: 8\n",
      "Begin: 1.982111759750059e-05   2.000001640587854\n",
      "End: 3.0000176817479405   9.110486782002884e-06\n",
      "\n",
      "\n",
      "Id: 6\n",
      "Begin: 2.9999930460485165   2.9999905812495857\n",
      "End: 2.9999995784460975   2.0784258268795032e-05\n",
      "\n",
      "\n",
      "\n",
      "\n",
      "\n",
      "\n",
      "\n",
      "\n"
     ]
    }
   ],
   "source": [
    "Point.Reset()\n",
    "p1 = Point(0,2)\n",
    "p2 = Point(3,0)\n",
    "p3 = Point(3,3)\n",
    "triangle = SortedDict()\n",
    "triangle[p1] = None\n",
    "triangle[p2] = None\n",
    "triangle[p3] = None\n",
    "triangle_seg = GetSegments(triangle)\n",
    "for k in triangle_seg.keys():\n",
    "    if triangle_seg[k][1]==0:\n",
    "        print(triangle_seg[k][0])\n",
    "    print(\"\\n\")\n"
   ]
  },
  {
   "cell_type": "code",
   "execution_count": 164,
   "metadata": {},
   "outputs": [
    {
     "name": "stdout",
     "output_type": "stream",
     "text": [
      "-2.0000001853967655\n",
      "Início do segmento 5\n",
      "-1.9999930095598515\n",
      "Início do segmento 4\n",
      "-1.0000153783066725\n",
      "Início do segmento 1\n",
      "-0.9999838260520815\n",
      "Fim do segmento 5\n",
      "-3.4824992375555102e-06\n",
      "Fim do segmento 4\n",
      "7.971588378259897e-06\n",
      "Início do segmento 3\n",
      "1.1332436466519476e-05\n",
      "Início do segmento 7\n",
      "1.982111759750059e-05\n",
      "Início do segmento 8\n",
      "1.000013058584532\n",
      "Fim do segmento 1\n",
      "1.0000167720674396\n",
      "Início do segmento 2\n",
      "1.999998538813313\n",
      "Fim do segmento 3\n"
     ]
    },
    {
     "data": {
      "text/plain": [
       "True"
      ]
     },
     "execution_count": 164,
     "metadata": {},
     "output_type": "execute_result"
    }
   ],
   "source": [
    "SweepLine(triangle_seg,pentagon_seg)"
   ]
  },
  {
   "cell_type": "code",
   "execution_count": 30,
   "metadata": {},
   "outputs": [
    {
     "name": "stdout",
     "output_type": "stream",
     "text": [
      "2: 2.999997913822665   1.0000081665137703\n",
      "4: 2.000008793410377   1.0000003650231482\n",
      "3: 1.999999953488618   1.999990186458855\n",
      "1: 0.9999948015166591   1.9999901810797924\n"
     ]
    }
   ],
   "source": [
    "for i in vec_s:\n",
    "    print(i)"
   ]
  }
 ],
 "metadata": {
  "kernelspec": {
   "display_name": "Python 3",
   "language": "python",
   "name": "python3"
  },
  "language_info": {
   "codemirror_mode": {
    "name": "ipython",
    "version": 3
   },
   "file_extension": ".py",
   "mimetype": "text/x-python",
   "name": "python",
   "nbconvert_exporter": "python",
   "pygments_lexer": "ipython3",
   "version": "3.11.4"
  }
 },
 "nbformat": 4,
 "nbformat_minor": 2
}
