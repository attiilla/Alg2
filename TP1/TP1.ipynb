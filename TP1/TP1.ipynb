{
 "cells": [
  {
   "cell_type": "code",
   "execution_count": 27,
   "metadata": {},
   "outputs": [],
   "source": [
    "import numpy as np\n",
    "import pandas as pd\n",
    "import matplotlib.pyplot as plt\n",
    "from sklearn.decomposition import PCA\n",
    "from sortedcontainers import SortedDict\n",
    "import matplotlib.pyplot as plt"
   ]
  },
  {
   "cell_type": "code",
   "execution_count": 28,
   "metadata": {},
   "outputs": [],
   "source": [
    "def PrintSortDict(sd):\n",
    "    for k in sd.keys():\n",
    "        print(f\"{k}: {sd[k]}\")\n",
    "\n",
    "def PrintKeys(sd):\n",
    "    for k in sd.keys():\n",
    "        print(f\"{k}; \")\n",
    "\n",
    "def PrintScope(sd):\n",
    "    for k in sd.keys():\n",
    "        print(f\"Vizinhos de {k.id}: \")\n",
    "        for kk in sd[k].keys():\n",
    "            print(f\"{kk.id}: {sd[k][kk]}\")"
   ]
  },
  {
   "cell_type": "code",
   "execution_count": 65,
   "metadata": {},
   "outputs": [],
   "source": [
    "def PrintHullA(polar_hull):\n",
    "    x = []\n",
    "    y = []\n",
    "    for key in polar_hull.keys():\n",
    "        x.append(key.x)\n",
    "        y.append(key.y)\n",
    "    x.append(x[0])\n",
    "    y.append(y[0])\n",
    "    plt.plot(x, y, marker='o', color='b')\n",
    "\n",
    "def PrintPoints(rb):\n",
    "    x = []\n",
    "    y = []\n",
    "    for k in rb.keys():\n",
    "        x.append(k.x)\n",
    "        y.append(k.y)\n",
    "    plt.scatter(x,y)\n",
    "\n",
    "def PrintHullsAndSeparator(ph_one,ph_two,sep):\n",
    "    fig, ax = plt.subplots()\n",
    "    x = []\n",
    "    y = []\n",
    "    for key in ph_one.keys():\n",
    "        x.append(key.x)\n",
    "        y.append(key.y)\n",
    "    x.append(x[0])\n",
    "    y.append(y[0])\n",
    "    ax.plot(x, y, marker='o', color='b')\n",
    "    x = []\n",
    "    y = []\n",
    "    for key in ph_two.keys():\n",
    "        x.append(key.x)\n",
    "        y.append(key.y)\n",
    "    x.append(x[0])\n",
    "    y.append(y[0])\n",
    "    ax.plot(x, y, marker='o', color='r')\n",
    "    x_limits = ax.get_xlim()\n",
    "    y_limits = ax.get_ylim()\n",
    "    ax.set_ylim(y_limits)\n",
    "    slope, inter = sep\n",
    "    x = x_limits\n",
    "    y = []\n",
    "    y.append(slope*x[0]+inter)\n",
    "    y.append(slope*x[1]+inter)\n",
    "    ax.plot(x,y,color='g')\n",
    "    "
   ]
  },
  {
   "cell_type": "code",
   "execution_count": 100,
   "metadata": {},
   "outputs": [],
   "source": [
    "class Point:\n",
    "    id = 1\n",
    "    def __init__(self,a,b, c = 0, shake=1e-5):\n",
    "        self.id = Point.id\n",
    "        Point.id+=1\n",
    "        shakes = np.random.uniform(-shake, shake, 2)\n",
    "        self.x = a+shakes[0]\n",
    "        self.y = b+shakes[1]\n",
    "        self.classe = c\n",
    "\n",
    "    def __add__(self, other):\n",
    "        if isinstance(other, Point):\n",
    "            return Point(self.x+other.x, self.y+other.y)\n",
    "        elif isinstance(other, np.ndarray):\n",
    "            return Point(self.x+other[0],self.y+other[1],shake=0)\n",
    "        else:\n",
    "            raise TypeError(\"Unsupported operand type\")\n",
    "        \n",
    "    def __sub__(self, other):\n",
    "        if isinstance(other, Point):\n",
    "            return Point(self.x-other.x, self.y-other.y)\n",
    "        else:\n",
    "            raise TypeError(\"Unsupported operand type\")\n",
    "        \n",
    "    def __truediv__(self,other):\n",
    "        return Point(self.x/other,self.y/other)\n",
    "        \n",
    "    def __str__(self):\n",
    "        return str(self.id)+\": \"+str(self.x)+\"   \"+str(self.y)\n",
    "    \n",
    "\n",
    "    def __lt__(self,other):\n",
    "        if isinstance(other, Point):\n",
    "            vec_prod = (self.x*other.y)-(self.y*other.x)\n",
    "            if vec_prod>0:\n",
    "                return True\n",
    "            elif vec_prod<0 or (self.x==other.x and self.y==other.y):\n",
    "                return False            \n",
    "            else:\n",
    "                raise Exception(f\"Segments ending in {self} and {other} are parallel\")\n",
    "        else:\n",
    "            raise TypeError(\"Unsupported operand type\")\n",
    "        \n",
    "    \n",
    "        \n",
    "    def Shake(self,shake):\n",
    "        shakes = np.random.uniform(-shake,shake,2)\n",
    "        self.x+=shakes[0]\n",
    "        self.y+=shakes[1]\n",
    "        return self\n",
    "\n",
    "    def Reset():\n",
    "        Point.id = 1\n",
    "\n",
    "def X_Coord(point):\n",
    "    return point.x"
   ]
  },
  {
   "cell_type": "code",
   "execution_count": 30,
   "metadata": {},
   "outputs": [],
   "source": [
    "class Segment:\n",
    "    id = 1\n",
    "    def __init__(self,a: Point, b: Point, enforce_order=True, shake = 0):\n",
    "        if b.x<a.x and enforce_order:\n",
    "            temp = a\n",
    "            a = b\n",
    "            b = temp\n",
    "        self.bgn = a.Shake(shake)\n",
    "        self.end = b.Shake(shake)\n",
    "        self.slope = (self.end.y-self.bgn.y)/(self.end.x-self.bgn.x)\n",
    "        self.intercept = self.end.y - (self.slope * self.end.x)\n",
    "        self.id = Segment.id\n",
    "        Segment.id+=1\n",
    "        \n",
    "    \n",
    "    def Y_At_X(self,x):\n",
    "        return self.slope*x+self.intercept\n",
    "\n",
    "\n",
    "    def Invert(self):\n",
    "        temp = self.bgn\n",
    "        self.bgn = self.end\n",
    "        self.end = temp\n",
    "\n",
    "\n",
    "    def __str__(self):\n",
    "        return \"Id: \"+str(self.id)+\"\\nBegin: \"+str(self.bgn.x)+\"   \"+str(self.bgn.y)+\"\\nEnd: \"+str(self.end.x)+\"   \"+str(self.end.y)\n",
    "    \n",
    "    def __lt__(self,other):\n",
    "        if isinstance(other, Segment):\n",
    "            return self.bgn.x < other.bgn.x\n",
    "        else:\n",
    "            raise TypeError(\"Unsupported operand type\")\n",
    "        \n",
    "    def Reset():\n",
    "        Segment.id = 1"
   ]
  },
  {
   "cell_type": "code",
   "execution_count": 31,
   "metadata": {},
   "outputs": [],
   "source": [
    "class LimitPoint:\n",
    "    def __init__(self,p,i):\n",
    "        self.point = p\n",
    "        self.is_end = i\n",
    "\n",
    "    def __lt__(self,other):\n",
    "        if isinstance(other, LimitPoint):\n",
    "            return self.point.x < other.point.x\n",
    "        else:\n",
    "            raise TypeError(\"Unsupported operand type\")"
   ]
  },
  {
   "cell_type": "markdown",
   "metadata": {},
   "source": [
    "## Primitivas"
   ]
  },
  {
   "cell_type": "code",
   "execution_count": 32,
   "metadata": {},
   "outputs": [],
   "source": [
    "def Clockwise(a: Segment, b: Segment): #returns true if a is clockwise to b\n",
    "    frst_seg = a.end - a.bgn\n",
    "    scnd_seg = b.end - b.bgn\n",
    "    vec_prod = (frst_seg.x*scnd_seg.y)-(frst_seg.y*scnd_seg.x)\n",
    "    if vec_prod>0:\n",
    "        return True\n",
    "    elif vec_prod<0:\n",
    "        return False\n",
    "    else:\n",
    "        print(a)\n",
    "        print(b)\n",
    "        raise Exception(\"Segments are parallel\")"
   ]
  },
  {
   "cell_type": "code",
   "execution_count": 33,
   "metadata": {},
   "outputs": [],
   "source": [
    "def SegmentsIntercept(a: Segment,b: Segment):\n",
    "    check_one = Clockwise(a,Segment(a.bgn,b.bgn))\n",
    "    check_two = Clockwise(a,Segment(a.bgn,b.end))\n",
    "    if check_one==check_two:\n",
    "        return False\n",
    "    check_one = Clockwise(b,Segment(b.bgn,a.bgn))\n",
    "    check_two = Clockwise(b,Segment(b.bgn,a.end))\n",
    "    if check_one==check_two:\n",
    "        return False\n",
    "    return True"
   ]
  },
  {
   "cell_type": "markdown",
   "metadata": {},
   "source": [
    "## Data reading and pre-processing"
   ]
  },
  {
   "cell_type": "code",
   "execution_count": 34,
   "metadata": {},
   "outputs": [],
   "source": [
    "def SetTwoDimensions(df):\n",
    "    pca = PCA(n_components=2)\n",
    "    pca_result = pca.fit_transform(df)\n",
    "    df_pca = pd.DataFrame(data = pca_result, columns = ['x', 'y'])\n",
    "    return df_pca"
   ]
  },
  {
   "cell_type": "code",
   "execution_count": 35,
   "metadata": {},
   "outputs": [],
   "source": [
    "def PreProcessData(path, tgtCol):\n",
    "    df = pd.read_csv(path)\n",
    "    tgtData = df.iloc[:, tgtCol]  # Save the nth column\n",
    "    df = df.drop(df.columns[tgtCol], axis=1)\n",
    "    df = SetTwoDimensions(df)\n",
    "    df['target_data'] = tgtData\n",
    "    return df"
   ]
  },
  {
   "cell_type": "code",
   "execution_count": 36,
   "metadata": {},
   "outputs": [],
   "source": [
    "def ExtractPoints(df):\n",
    "    rb_tree_points = SortedDict(X_Coord)\n",
    "    for i in range(len(df)):\n",
    "        p = Point(df.loc[i, \"x\"], df.loc[i, \"y\"], df.loc[i,\"target_data\"])\n",
    "        rb_tree_points[p] = None\n",
    "    return rb_tree_points\n"
   ]
  },
  {
   "cell_type": "code",
   "execution_count": 37,
   "metadata": {},
   "outputs": [],
   "source": [
    "def ReadData(path, tgtCol):\n",
    "    df = PreProcessData(path, tgtCol)\n",
    "    rb_tree_points = ExtractPoints(df)\n",
    "    return rb_tree_points\n"
   ]
  },
  {
   "cell_type": "markdown",
   "metadata": {},
   "source": [
    "## Convex Hull"
   ]
  },
  {
   "cell_type": "code",
   "execution_count": 44,
   "metadata": {},
   "outputs": [],
   "source": [
    "def ConvexHullA(rb_tree_points):\n",
    "    #hull_points = SortedDict()\n",
    "    polar_hull = SortedDict()\n",
    "    p0 = rb_tree_points.peekitem(0)[0]\n",
    "    p1 = rb_tree_points.peekitem(1)[0]\n",
    "    p2 = rb_tree_points.peekitem(2)[0]\n",
    "    #hull_points[PointWrap(p0)] = None\n",
    "    #hull_points[PointWrap(p1)] = None\n",
    "    #hull_points[PointWrap(p2)] = None\n",
    "    polar_hull[p0] = None\n",
    "    polar_hull[p1] = None\n",
    "    polar_hull[p2] = None\n",
    "\n",
    "    it_points = list(rb_tree_points.keys())\n",
    "    for p in it_points[3:]:\n",
    "        polar_hull[p] = None\n",
    "        n = len(polar_hull)\n",
    "        index_cclock_comparable = (polar_hull.index(p)+1)%n\n",
    "        compare_cclock = polar_hull.iloc[index_cclock_comparable]   #first element to search counter-clockwise the vertex that links to p in the old hull\n",
    "        searching_cclock = True\n",
    "\n",
    "\n",
    "        index_clock_comparable = (polar_hull.index(p)-1)%n\n",
    "        compare_clock = polar_hull.iloc[index_clock_comparable]      #first element to search clockwise the vertex that links to p in the old hull\n",
    "        searching_clock = True\n",
    "        #PrintKeys(polar_hull) ###\n",
    "        del polar_hull[p]\n",
    "        n = len(polar_hull)\n",
    "        removal = dict()\n",
    "        #searching for parallel segment counter_clockwise\n",
    "        #print(f\"The new point is {p}\")\n",
    "        while searching_cclock:\n",
    "            index_cclock_comparable = polar_hull.index(compare_cclock)\n",
    "            #print(f\"The anchor is {compare_cclock}\")\n",
    "            window = [(index_cclock_comparable-1)%n, (index_cclock_comparable+1)%n]\n",
    "            seg1 = Segment(polar_hull.iloc[window[1]], compare_cclock, enforce_order=False,shake=1e-5)\n",
    "            seg2 = Segment(compare_cclock, polar_hull.iloc[window[0]], enforce_order=False,shake=1e-5)\n",
    "            seg0 = Segment(compare_cclock, p, enforce_order=False, shake=1e-5)\n",
    "            \n",
    "            #print(f\"Segments:\\nseg0: {seg0}\\nseg1: {seg1}\\nseg2{seg2}\")\n",
    "            if Clockwise(seg1,seg0) != Clockwise(seg2,seg0):\n",
    "                #print(\"Found\")\n",
    "                searching_cclock = False\n",
    "            else:\n",
    "                #print(\"Mark to remove:\")\n",
    "                #print(compare_cclock)\n",
    "                removal[compare_cclock] = None\n",
    "                #print(\"marked\")\n",
    "                compare_cclock = polar_hull.iloc[window[1]]\n",
    "\n",
    "        #searching for parallel segment clockwise\n",
    "        while searching_clock:\n",
    "            index_clock_comparable = polar_hull.index(compare_clock)\n",
    "            #print(f\"The anchor is {compare_clock}\")\n",
    "            window = [(index_clock_comparable+1)%n, (index_clock_comparable-1)%n]\n",
    "            seg1 = Segment(polar_hull.iloc[window[1]], compare_clock, enforce_order=False,shake=1e-5)##\n",
    "            seg2 = Segment(compare_clock, polar_hull.iloc[window[0]], enforce_order=False,shake=1e-5)##\n",
    "            seg0 = Segment(compare_clock, p, enforce_order=False,shake=1e-5)\n",
    "            #print(f\"Segments:\\nseg0: {seg0}\\nseg1: {seg1}\\nseg2: {seg2}\")\n",
    "            if Clockwise(seg1,seg0) != Clockwise(seg2,seg0):\n",
    "                #print(\"Found\")\n",
    "                searching_clock = False\n",
    "            else:\n",
    "                #print(\"Mark to remove:\")\n",
    "                #print(compare_clock)\n",
    "                removal[compare_clock] = None\n",
    "                #print(\"marked\")\n",
    "                compare_clock = polar_hull.iloc[window[1]]\n",
    "        #print(\"removal\")\n",
    "        for to_remove in removal:\n",
    "            #print(to_remove)\n",
    "            #PrintKeys(polar_hull)\n",
    "            del polar_hull[to_remove]\n",
    "            #print(\"after removal\")\n",
    "            #PrintKeys(polar_hull)\n",
    "    \n",
    "        polar_hull[p] = None\n",
    "        #hull_points[p] = None\n",
    "    return polar_hull"
   ]
  },
  {
   "cell_type": "code",
   "execution_count": 45,
   "metadata": {},
   "outputs": [
    {
     "name": "stderr",
     "output_type": "stream",
     "text": [
      "C:\\Users\\User\\AppData\\Local\\Temp\\ipykernel_6100\\924946608.py:19: DeprecationWarning: sorted_dict.iloc is deprecated. Use SortedDict.keys() instead.\n",
      "  compare_cclock = polar_hull.iloc[index_cclock_comparable]   #first element to search counter-clockwise the vertex that links to p in the old hull\n"
     ]
    },
    {
     "data": {
      "image/png": "[encoded data removed]",
      "text/plain": [
       "<Figure size 640x480 with 1 Axes>"
      ]
     },
     "metadata": {},
     "output_type": "display_data"
    }
   ],
   "source": [
    "Point.Reset()\n",
    "Segment.Reset()\n",
    "rbt = SortedDict(lambda p: p.x)\n",
    "#Test convex hull\n",
    "p1 = Point(1,0)\n",
    "p2 = Point(2,3)\n",
    "p3 = Point(5,2)\n",
    "p4 = Point(6,5)\n",
    "p5 = Point(0,4)\n",
    "\n",
    "rbt[p1] = None\n",
    "rbt[p2] = None\n",
    "rbt[p3] = None\n",
    "rbt[p4] = None\n",
    "rbt[p5] = None\n",
    "#PrintPoints(rbt)\n",
    "ph = ConvexHullA(rbt)\n",
    "PrintPoints(ph)\n",
    "PrintHullA(ph)"
   ]
  },
  {
   "cell_type": "markdown",
   "metadata": {},
   "source": [
    "## Sweep Line"
   ]
  },
  {
   "cell_type": "code",
   "execution_count": 51,
   "metadata": {},
   "outputs": [],
   "source": [
    "def GetSegments(polar_hull):\n",
    "    #polar_hull = SortedDict()\n",
    "    #for key in convex_hull.keys():\n",
    "    #    polar_hull[key] = None\n",
    "    n = len(polar_hull)\n",
    "    keys = list(polar_hull.keys())\n",
    "    segments_hull = SortedDict()\n",
    "    count = 0\n",
    "    for key in polar_hull.keys():\n",
    "        shake = np.random.uniform(0, 1e-5, (2,2))\n",
    "        next_key = keys[(count + 1) % n]\n",
    "        if key.x<next_key.x:\n",
    "            shake[1][0] *= -1\n",
    "        else:\n",
    "            shake[0][0] *= -1\n",
    "        if key.y<next_key.y:\n",
    "            shake[1][1] *= -1\n",
    "        else:\n",
    "            shake[0][1] *= -1\n",
    "        s = Segment(key+shake[0],next_key+shake[1])\n",
    "        count+=1\n",
    "        segments_hull[s.bgn.x] = (s,0)\n",
    "        segments_hull[s.end.x] = (s,1)\n",
    "    return segments_hull"
   ]
  },
  {
   "cell_type": "code",
   "execution_count": 52,
   "metadata": {},
   "outputs": [],
   "source": [
    "def SweepLine(segment_hull_one, segments_hull_two):\n",
    "    segments_set = segment_hull_one.copy()\n",
    "    segments_set.update(segments_hull_two)\n",
    "    scope = SortedDict()\n",
    "    for key in segments_set.keys():\n",
    "        #print(key)\n",
    "        current_segment, end = segments_set[key]\n",
    "        if not end: #início do segmento\n",
    "            #print(f\"Início do segmento {current_segment.id}\")\n",
    "            comparisons = dict()\n",
    "            for comparable_segment in scope.keys():\n",
    "                aux = (current_segment.bgn.y>comparable_segment.Y_At_X(key))\n",
    "                comparisons[comparable_segment] = aux\n",
    "                scope[comparable_segment][current_segment] = not aux\n",
    "            scope[current_segment] = comparisons\n",
    "            #PrintScope(scope)\n",
    "            \n",
    "        else:                          #fim do segmento\n",
    "            #print(f\"Fim do segmento {current_segment.id}\")\n",
    "            comparisons = scope[current_segment]\n",
    "            #PrintScope(scope)\n",
    "            del scope[current_segment]\n",
    "            for comparable_segment in scope.keys():\n",
    "                aux = (current_segment.end.y>comparable_segment.Y_At_X(key))\n",
    "                if comparisons[comparable_segment] != aux:\n",
    "                    #print(f\"Inteseção entre {current_segment.id} e {comparable_segment.id}\")\n",
    "                    return True\n",
    "            \n",
    "    return False"
   ]
  },
  {
   "cell_type": "code",
   "execution_count": 101,
   "metadata": {},
   "outputs": [
    {
     "name": "stdout",
     "output_type": "stream",
     "text": [
      "Id: 4\n",
      "Begin: -1.9999941382890876   1.000013205878434\n",
      "End: -7.235798629470898e-06   2.999990668064837\n",
      "\n",
      "\n",
      "Id: 5\n",
      "Begin: -1.9999937396856255   1.000002766002286\n",
      "End: -1.0000082311104859   3.5261630297641853e-06\n",
      "\n",
      "\n",
      "\n",
      "\n",
      "Id: 1\n",
      "Begin: -0.9999951781740722   -3.2429202649352003e-06\n",
      "End: 0.9999931580161046   2.4986838535631423e-06\n",
      "\n",
      "\n",
      "\n",
      "\n",
      "Id: 3\n",
      "Begin: 3.5160390886162853e-06   2.999985910624449\n",
      "End: 1.9999925272133603   1.000006863336193\n",
      "\n",
      "\n",
      "\n",
      "\n",
      "Id: 2\n",
      "Begin: 1.0000010771118795   1.0585122966679776e-06\n",
      "End: 1.999991869628304   0.9999997666317516\n",
      "\n",
      "\n",
      "\n",
      "\n",
      "\n",
      "\n"
     ]
    }
   ],
   "source": [
    "Segment.Reset()\n",
    "Point.Reset()\n",
    "p1 = Point(-1,0)\n",
    "p2 = Point(1,0)\n",
    "p3 = Point(-2,1)\n",
    "p4 = Point(2,1)\n",
    "p5 = Point(0,3)\n",
    "pentagon = SortedDict()\n",
    "pentagon[p1] = None\n",
    "pentagon[p2] = None\n",
    "pentagon[p3] = None\n",
    "pentagon[p4] = None\n",
    "pentagon[p5] = None\n",
    "pentagon_seg = GetSegments(pentagon)       #working\n",
    "for k in pentagon_seg.keys():\n",
    "    if pentagon_seg[k][1]==0:\n",
    "        print(pentagon_seg[k][0])\n",
    "    print(\"\\n\")"
   ]
  },
  {
   "cell_type": "code",
   "execution_count": 61,
   "metadata": {},
   "outputs": [
    {
     "name": "stdout",
     "output_type": "stream",
     "text": [
      "Id: 8\n",
      "Begin: -5.899448548219553e-06   1.9999996548210366\n",
      "End: 2.9999951116464803   4.684899303535853e-06\n",
      "\n",
      "\n",
      "Id: 7\n",
      "Begin: -5.449488059863813e-08   2.000006449628235\n",
      "End: 2.999994767826122   3.0000012505388405\n",
      "\n",
      "\n",
      "\n",
      "\n",
      "Id: 6\n",
      "Begin: 2.999994820798211   7.679888322115111e-07\n",
      "End: 3.000000986455205   3.0000013112992425\n",
      "\n",
      "\n",
      "\n",
      "\n",
      "\n",
      "\n"
     ]
    }
   ],
   "source": [
    "Point.Reset()\n",
    "p1 = Point(0,2)\n",
    "p2 = Point(3,0)\n",
    "p3 = Point(3,3)\n",
    "triangle = SortedDict()\n",
    "triangle[p1] = None\n",
    "triangle[p2] = None\n",
    "triangle[p3] = None\n",
    "triangle_seg = GetSegments(triangle)\n",
    "for k in triangle_seg.keys():\n",
    "    if triangle_seg[k][1]==0:\n",
    "        print(triangle_seg[k][0])\n",
    "    print(\"\\n\")\n"
   ]
  },
  {
   "cell_type": "code",
   "execution_count": null,
   "metadata": {},
   "outputs": [
    {
     "name": "stdout",
     "output_type": "stream",
     "text": [
      "-2.0000012277344568\n",
      "Início do segmento 3\n",
      "Vizinhos de 3: \n",
      "-2.000000844071666\n",
      "Início do segmento 4\n",
      "Vizinhos de 3: \n",
      "4: True\n",
      "Vizinhos de 4: \n",
      "3: False\n",
      "-1.0000058093528519\n",
      "Fim do segmento 4\n",
      "Vizinhos de 3: \n",
      "4: True\n",
      "Vizinhos de 4: \n",
      "3: False\n",
      "-0.9999918556141968\n",
      "Início do segmento 5\n",
      "Vizinhos de 3: \n",
      "4: True\n",
      "5: True\n",
      "Vizinhos de 5: \n",
      "3: False\n",
      "-9.635786216177255e-06\n",
      "Fim do segmento 3\n",
      "Vizinhos de 3: \n",
      "4: True\n",
      "5: True\n",
      "Vizinhos de 5: \n",
      "3: False\n",
      "-1.873987082306191e-06\n",
      "Início do segmento 2\n",
      "Vizinhos de 5: \n",
      "3: False\n",
      "2: False\n",
      "Vizinhos de 2: \n",
      "5: True\n",
      "1.0954041135061962e-05\n",
      "Início do segmento 8\n",
      "Vizinhos de 5: \n",
      "3: False\n",
      "2: False\n",
      "8: False\n",
      "Vizinhos de 2: \n",
      "5: True\n",
      "8: True\n",
      "Vizinhos de 8: \n",
      "5: True\n",
      "2: False\n",
      "1.119415172445094e-05\n",
      "Início do segmento 7\n",
      "Vizinhos de 5: \n",
      "3: False\n",
      "2: False\n",
      "8: False\n",
      "7: False\n",
      "Vizinhos de 2: \n",
      "5: True\n",
      "8: True\n",
      "7: True\n",
      "Vizinhos de 8: \n",
      "5: True\n",
      "2: False\n",
      "7: False\n",
      "Vizinhos de 7: \n",
      "5: True\n",
      "2: False\n",
      "8: True\n",
      "0.9999915939511078\n",
      "Fim do segmento 5\n",
      "Vizinhos de 5: \n",
      "3: False\n",
      "2: False\n",
      "8: False\n",
      "7: False\n",
      "Vizinhos de 2: \n",
      "5: True\n",
      "8: True\n",
      "7: True\n",
      "Vizinhos de 8: \n",
      "5: True\n",
      "2: False\n",
      "7: False\n",
      "Vizinhos de 7: \n",
      "5: True\n",
      "2: False\n",
      "8: True\n",
      "1.0000063271743114\n",
      "Início do segmento 1\n",
      "Vizinhos de 2: \n",
      "5: True\n",
      "8: True\n",
      "7: True\n",
      "1: True\n",
      "Vizinhos de 8: \n",
      "5: True\n",
      "2: False\n",
      "7: False\n",
      "1: True\n",
      "Vizinhos de 7: \n",
      "5: True\n",
      "2: False\n",
      "8: True\n",
      "1: True\n",
      "Vizinhos de 1: \n",
      "2: False\n",
      "8: False\n",
      "7: False\n",
      "1.999993387505671\n",
      "Fim do segmento 2\n",
      "Vizinhos de 2: \n",
      "5: True\n",
      "8: True\n",
      "7: True\n",
      "1: True\n",
      "Vizinhos de 8: \n",
      "5: True\n",
      "2: False\n",
      "7: False\n",
      "1: True\n",
      "Vizinhos de 7: \n",
      "5: True\n",
      "2: False\n",
      "8: True\n",
      "1: True\n",
      "Vizinhos de 1: \n",
      "2: False\n",
      "8: False\n",
      "7: False\n",
      "Inteseção entre 2 e 7\n"
     ]
    },
    {
     "data": {
      "text/plain": [
       "True"
      ]
     },
     "execution_count": 290,
     "metadata": {},
     "output_type": "execute_result"
    }
   ],
   "source": [
    "SweepLine(triangle_seg,pentagon_seg)"
   ]
  },
  {
   "cell_type": "markdown",
   "metadata": {},
   "source": [
    "## Classification"
   ]
  },
  {
   "cell_type": "code",
   "execution_count": 132,
   "metadata": {},
   "outputs": [],
   "source": [
    "def Distance(a: Point, b: Point):\n",
    "    return np.sqrt((a.x-b.x)**2+(a.y-b.y)**2)\n",
    "\n",
    "def SegFromPointToSeg(p:Point, s:Segment):\n",
    "    ps_slope = -1/s.slope\n",
    "    ps_inter = p.y-ps_slope*p.x\n",
    "    x = (ps_inter-s.intercept)/(s.slope-ps_slope)\n",
    "    y = ps_slope*x+ps_inter\n",
    "    if x<s.bgn.x or x>s.end.x:\n",
    "        return np.inf, None\n",
    "    intermed_point = Point(x,y)\n",
    "    d = Distance(p,intermed_point)\n",
    "    return d, intermed_point\n",
    "\n",
    "def SegFromPointToSegDev(p:Point, s:Segment):\n",
    "    ps_slope = -1/s.slope\n",
    "    ps_inter = p.y-ps_slope*p.x\n",
    "    xp = np.array([-8.1, 8.1])\n",
    "    yp = xp*ps_slope+ps_inter\n",
    "    plt.plot(p.x,p.y,marker='o', color='y')\n",
    "    plt.plot(xp,yp,color='r')\n",
    "    xperp = np.array([s.bgn.x,s.end.x])\n",
    "    yperp = np.array([s.bgn.y,s.end.y])\n",
    "    plt.plot(xperp,yperp,color='b')\n",
    "    x = (ps_inter-s.intercept)/(s.slope-ps_slope)\n",
    "    y = ps_slope*x+ps_inter\n",
    "    if x<s.bgn.x or x>s.end.x:\n",
    "        return np.inf, None\n",
    "    intermed_point = Point(x,y)\n",
    "    plt.plot(x,y,marker='o',color='g')\n",
    "    d = Distance(p,intermed_point)\n",
    "    return d, intermed_point\n"
   ]
  },
  {
   "cell_type": "code",
   "execution_count": 133,
   "metadata": {},
   "outputs": [],
   "source": [
    "def Classificator(ph_one, ph_two):\n",
    "    min = np.inf\n",
    "    for key in ph_one.keys():\n",
    "        for kkey in ph_two.keys():\n",
    "            d = Distance(key,kkey)\n",
    "            if d<min:\n",
    "                min = d\n",
    "                closest_pair = (key,kkey)\n",
    "    hulls = (ph_one,ph_two)\n",
    "    distances = SortedDict()\n",
    "    distances[d] = closest_pair\n",
    "    #print(\"closest points: \")\n",
    "    \n",
    "    for i in range(2):\n",
    "        p = closest_pair[i]\n",
    "        #print(f\"Point from hull {i}\")\n",
    "        #print(p)\n",
    "        next_point_index = (hulls[i].index(p)+1)%len(hulls[i])\n",
    "        next_point = hulls[i].iloc[next_point_index]\n",
    "        #print(\"Next point\")\n",
    "        #print(next_point)\n",
    "        next_seg = Segment(p,next_point)\n",
    "        d, intermed_point = SegFromPointToSeg(closest_pair[(i+1)%2],next_seg)\n",
    "        #print(\"distance to the closest of another polygon\")\n",
    "        #print(d)\n",
    "        if d!=np.inf:\n",
    "            distances[d] = (intermed_point,closest_pair[(i+1)%2])\n",
    "\n",
    "        prev_point_index = (hulls[i].index(p)-1)%len(hulls[i])\n",
    "        prev_point = hulls[i].iloc[prev_point_index]\n",
    "        #print(\"Previous point\")\n",
    "        #print(prev_point)\n",
    "        prev_seg = Segment(p,prev_point)\n",
    "        d, intermed_point = SegFromPointToSeg(closest_pair[(i+1)%2],prev_seg)\n",
    "        #print(\"distance to the closest of another polygon\")\n",
    "        #print(d)\n",
    "        if d!=np.inf:\n",
    "            distances[d] = (intermed_point,closest_pair[(i+1)%2])\n",
    "\n",
    "    first_key = distances.peekitem(0)[0]\n",
    "    ends = distances[first_key]\n",
    "    #print(\"Segment\")\n",
    "    s = Segment(ends[0],ends[1])\n",
    "    #print(s)\n",
    "    med_p = Point(0.5*(s.bgn.x+s.end.x),0.5*(s.bgn.y+s.end.y))\n",
    "    slope = -1/s.slope\n",
    "    intercept = med_p.y-slope*med_p.x\n",
    "\n",
    "    return slope, intercept\n",
    "\n",
    "    \n",
    "    \n"
   ]
  },
  {
   "cell_type": "code",
   "execution_count": 136,
   "metadata": {},
   "outputs": [
    {
     "data": {
      "text/plain": [
       "(1.4142220277903748, <__main__.Point at 0x2499be333d0>)"
      ]
     },
     "execution_count": 136,
     "metadata": {},
     "output_type": "execute_result"
    },
    {
     "data": {
      "image/png": "[encoded data removed]",
      "text/plain": [
       "<Figure size 640x480 with 1 Axes>"
      ]
     },
     "metadata": {},
     "output_type": "display_data"
    }
   ],
   "source": [
    "Point.Reset()\n",
    "p1 = Point(1,1)\n",
    "p2 = Point(-1,-1)\n",
    "p0 = Point(-1,1)\n",
    "s = Segment(p1,p2)\n",
    "SegFromPointToSegDev(p0, s)"
   ]
  },
  {
   "cell_type": "code",
   "execution_count": 135,
   "metadata": {},
   "outputs": [
    {
     "name": "stdout",
     "output_type": "stream",
     "text": [
      "Pentagon:\n",
      "1: -1.0000009926092888   -9.612147078312659e-06\n",
      "2: 1.0000090538630737   8.666274466182637e-06\n",
      "4: 1.9999957456569928   0.9999921160834617\n",
      "5: 1.1175070564233327e-06   3.0000076250406646\n",
      "3: -1.9999938055808628   1.0000059114194582\n",
      "Another triangle:\n",
      "7: 8.0000086441445   4.850051627663144e-06\n",
      "8: 8.000007900772152   3.00000318829129\n",
      "6: 4.999995741022702   1.9999993122568214\n",
      "closest points: \n",
      "Point from hull 0\n",
      "4: 1.9999957456569928   0.9999921160834617\n",
      "Next point\n",
      "5: 1.1175070564233327e-06   3.0000076250406646\n",
      "distance to the closest of another polygon\n",
      "inf\n",
      "Previous point\n",
      "2: 1.0000090538630737   8.666274466182637e-06\n",
      "distance to the closest of another polygon\n",
      "inf\n",
      "Point from hull 1\n",
      "6: 4.999995741022702   1.9999993122568214\n",
      "Next point\n",
      "7: 8.0000086441445   4.850051627663144e-06\n",
      "distance to the closest of another polygon\n",
      "inf\n",
      "Previous point\n",
      "8: 8.000007900772152   3.00000318829129\n",
      "distance to the closest of another polygon\n",
      "inf\n",
      "Segment\n",
      "Id: 5\n",
      "Begin: 1.9999957456569928   0.9999921160834617\n",
      "End: 4.999995741022702   1.9999993122568214\n"
     ]
    },
    {
     "name": "stderr",
     "output_type": "stream",
     "text": [
      "C:\\Users\\User\\AppData\\Local\\Temp\\ipykernel_6100\\2508149221.py:19: DeprecationWarning: sorted_dict.iloc is deprecated. Use SortedDict.keys() instead.\n",
      "  next_point = hulls[i].iloc[next_point_index]\n"
     ]
    },
    {
     "data": {
      "image/png": "[encoded data removed]",
      "text/plain": [
       "<Figure size 640x480 with 1 Axes>"
      ]
     },
     "metadata": {},
     "output_type": "display_data"
    }
   ],
   "source": [
    "Segment.Reset()\n",
    "Point.Reset()\n",
    "p1 = Point(-1,0)\n",
    "p2 = Point(1,0)\n",
    "p3 = Point(-2,1)\n",
    "p4 = Point(2,1)\n",
    "p5 = Point(0,3)\n",
    "pentagon = SortedDict()\n",
    "pentagon[p1] = None\n",
    "pentagon[p2] = None\n",
    "pentagon[p3] = None\n",
    "pentagon[p4] = None\n",
    "pentagon[p5] = None\n",
    "p6 = Point(5,2)\n",
    "p7 = Point(8,0)\n",
    "p8 = Point(8,3)\n",
    "another_triangle = SortedDict()\n",
    "another_triangle[p6] = None\n",
    "another_triangle[p7] = None\n",
    "another_triangle[p8] = None\n",
    "print(\"Pentagon:\")\n",
    "for k in pentagon.keys():\n",
    "    print(k)\n",
    "print(\"Another triangle:\")\n",
    "for k in another_triangle.keys():\n",
    "    print(k)\n",
    "separator = Classificator(pentagon, another_triangle)\n",
    "another_triangle_seg = GetSegments(another_triangle)\n",
    "PrintHullsAndSeparator(pentagon, another_triangle,separator)"
   ]
  },
  {
   "cell_type": "markdown",
   "metadata": {},
   "source": [
    "## Testing"
   ]
  },
  {
   "cell_type": "code",
   "execution_count": null,
   "metadata": {},
   "outputs": [
    {
     "name": "stdout",
     "output_type": "stream",
     "text": [
      "1: 1.0   0.0\n",
      "1: 2.0   2.0\n",
      "1: 0.0   2.0\n"
     ]
    }
   ],
   "source": [
    "Point.Reset()\n",
    "p1 = Point(1,0, shake=0)\n",
    "p2 = Point(0,2, shake=0)\n",
    "p3 = Point(2,2, shake=0)\n",
    "Point.Reset()\n",
    "polar_set = SortedDict()      #Points are being sorted according to polar coordinate\n",
    "polar_set[p1] = None\n",
    "polar_set[p2] = None\n",
    "polar_set[p3] = None\n",
    "for key in polar_set.keys():\n",
    "    print(key)"
   ]
  },
  {
   "cell_type": "code",
   "execution_count": null,
   "metadata": {},
   "outputs": [
    {
     "name": "stdout",
     "output_type": "stream",
     "text": [
      "1: 0.0   2.0\n",
      "1: 0.003   3.0\n",
      "1: 1.0   0.0\n",
      "1: 1.5   3.0\n",
      "1: 2.0   2.0\n",
      "1: 2.0   3.0\n"
     ]
    }
   ],
   "source": [
    "Point.Reset()\n",
    "p1 = Point(1,0, shake=0)\n",
    "p2 = Point(0,2, shake=0)\n",
    "p3 = Point(2,2, shake=0)\n",
    "p4 = Point(2,3, shake=0)\n",
    "p5 = Point(1.5,3, shake=0)\n",
    "p6 = Point(0.003,3, shake=0)\n",
    "Point.Reset()\n",
    "xc_set = SortedDict(X_Coord)      #Points are being sorted according to x coordinate\n",
    "xc_set[p1] = None\n",
    "xc_set[p2] = None\n",
    "xc_set[p3] = None\n",
    "xc_set[p4] = None\n",
    "xc_set[p5] = None\n",
    "xc_set[p6] = None\n",
    "for key in xc_set.keys():\n",
    "    print(key)"
   ]
  },
  {
   "cell_type": "markdown",
   "metadata": {},
   "source": [
    "## Data Load and Modelling"
   ]
  },
  {
   "cell_type": "markdown",
   "metadata": {},
   "source": [
    "### Obesity Classification(TO-DO)"
   ]
  },
  {
   "cell_type": "code",
   "execution_count": null,
   "metadata": {},
   "outputs": [],
   "source": [
    "#Source = https://archive.ics.uci.edu/dataset/544/estimation+of+obesity+levels+based+on+eating+habits+and+physical+condition\n",
    "obesity_data = pd.read_csv(\"./dataSets/ObesityDataSet_raw_and_data_sinthetic.csv\")"
   ]
  },
  {
   "cell_type": "code",
   "execution_count": null,
   "metadata": {},
   "outputs": [],
   "source": [
    "iris_data = pd.read_csv(\"./dataSets/Iris.csv\")"
   ]
  },
  {
   "cell_type": "markdown",
   "metadata": {},
   "source": [
    "### Spam classification"
   ]
  },
  {
   "cell_type": "code",
   "execution_count": null,
   "metadata": {},
   "outputs": [],
   "source": [
    "#Source = https://archive.ics.uci.edu/dataset/94/spambase\n",
    "spambase_data = pd.read_csv(\"./dataSets/spambase/spambase.data\",header=None)\n",
    "pca = PCA(2)\n",
    "data = pca.fit_transform(spambase_data.iloc[:,:-1])\n",
    "label = spambase_data.iloc[:,-1]"
   ]
  },
  {
   "cell_type": "code",
   "execution_count": null,
   "metadata": {},
   "outputs": [
    {
     "data": {
      "text/plain": [
       "57\n",
       "0    2788\n",
       "1    1813\n",
       "Name: count, dtype: int64"
      ]
     },
     "execution_count": 393,
     "metadata": {},
     "output_type": "execute_result"
    }
   ],
   "source": [
    "#Duas Classes\n",
    "label.value_counts()"
   ]
  },
  {
   "cell_type": "code",
   "execution_count": null,
   "metadata": {},
   "outputs": [
    {
     "data": {
      "text/plain": [
       "<matplotlib.collections.PathCollection at 0x24ff1f0a410>"
      ]
     },
     "execution_count": 394,
     "metadata": {},
     "output_type": "execute_result"
    },
    {
     "data": {
      "image/png": "[encoded data removed]",
      "text/plain": [
       "<Figure size 640x480 with 1 Axes>"
      ]
     },
     "metadata": {},
     "output_type": "display_data"
    }
   ],
   "source": [
    "color = ['red' if l == 0 else 'blue' for l in label]\n",
    "plt.scatter(data[:,0],data[:,1],color=color)"
   ]
  },
  {
   "cell_type": "markdown",
   "metadata": {},
   "source": [
    "### Haberman"
   ]
  },
  {
   "cell_type": "code",
   "execution_count": null,
   "metadata": {},
   "outputs": [],
   "source": [
    "#Source = https://archive.ics.uci.edu/dataset/43/haberman+s+survival\n",
    "haberman = pd.read_csv(\"./dataSets/haberman+s+survival/haberman.data\",header=None)\n",
    "pca = PCA(2)\n",
    "data = pca.fit_transform(haberman.iloc[:,:-1])\n",
    "label = haberman.iloc[:,-1]"
   ]
  },
  {
   "cell_type": "code",
   "execution_count": null,
   "metadata": {},
   "outputs": [
    {
     "data": {
      "text/plain": [
       "3\n",
       "1    225\n",
       "2     81\n",
       "Name: count, dtype: int64"
      ]
     },
     "execution_count": 414,
     "metadata": {},
     "output_type": "execute_result"
    }
   ],
   "source": [
    "#Duas classes\n",
    "label.value_counts()"
   ]
  },
  {
   "cell_type": "code",
   "execution_count": null,
   "metadata": {},
   "outputs": [
    {
     "data": {
      "text/plain": [
       "<matplotlib.collections.PathCollection at 0x24ff229e3b0>"
      ]
     },
     "execution_count": 415,
     "metadata": {},
     "output_type": "execute_result"
    },
    {
     "data": {
      "image/png": "[encoded data removed]",
      "text/plain": [
       "<Figure size 640x480 with 1 Axes>"
      ]
     },
     "metadata": {},
     "output_type": "display_data"
    }
   ],
   "source": [
    "color = ['red' if l == 1 else 'blue' for l in label]\n",
    "plt.scatter(data[:,0],data[:,1], color=color)\n",
    "plt.show()"
   ]
  },
  {
   "cell_type": "markdown",
   "metadata": {},
   "source": [
    "### Pen Writing Recognition"
   ]
  },
  {
   "cell_type": "code",
   "execution_count": null,
   "metadata": {},
   "outputs": [],
   "source": [
    "#Source = https://archive.ics.uci.edu/dataset/81/pen+based+recognition+of+handwritten+digits\n",
    "pen_recog_training = pd.read_csv(\"./dataSets/pen+based+recognition+of+handwritten+digits/pendigits.tra\",header=None)\n",
    "pen_recog_test = pd.read_csv(\"./dataSets/pen+based+recognition+of+handwritten+digits/pendigits.tes\",header=None)\n",
    "pen_recog = pd.concat([pen_recog_training,pen_recog_test],axis=0)"
   ]
  },
  {
   "cell_type": "code",
   "execution_count": null,
   "metadata": {},
   "outputs": [],
   "source": [
    "pca = PCA(2)\n",
    "data = pca.fit_transform(pen_recog.iloc[:,:-1])\n",
    "label_orig = pen_recog.iloc[:,-1]"
   ]
  },
  {
   "cell_type": "code",
   "execution_count": null,
   "metadata": {},
   "outputs": [
    {
     "data": {
      "text/plain": [
       "16\n",
       "2    1144\n",
       "4    1144\n",
       "1    1143\n",
       "0    1143\n",
       "7    1142\n",
       "6    1056\n",
       "8    1055\n",
       "5    1055\n",
       "9    1055\n",
       "3    1055\n",
       "Name: count, dtype: int64"
      ]
     },
     "execution_count": 447,
     "metadata": {},
     "output_type": "execute_result"
    }
   ],
   "source": [
    "#Dez classes\n",
    "label_orig.value_counts()"
   ]
  },
  {
   "cell_type": "code",
   "execution_count": null,
   "metadata": {},
   "outputs": [
    {
     "data": {
      "text/plain": [
       "16\n",
       "1    9937\n",
       "0    1055\n",
       "Name: count, dtype: int64"
      ]
     },
     "execution_count": 456,
     "metadata": {},
     "output_type": "execute_result"
    }
   ],
   "source": [
    "#Convertida para duas (Se o dígito escrito for menor que 5)\n",
    "label = (label_orig < 9).astype(int)\n",
    "label.value_counts()"
   ]
  },
  {
   "cell_type": "code",
   "execution_count": null,
   "metadata": {},
   "outputs": [
    {
     "data": {
      "image/png": "[encoded data removed]",
      "text/plain": [
       "<Figure size 640x480 with 1 Axes>"
      ]
     },
     "metadata": {},
     "output_type": "display_data"
    }
   ],
   "source": [
    "color = ['red' if l == 1 else 'blue' for l in label]\n",
    "plt.scatter(data[:,0],data[:,1], color=color)\n",
    "plt.show()"
   ]
  },
  {
   "cell_type": "markdown",
   "metadata": {},
   "source": [
    "### Yeast (TO-DO)"
   ]
  },
  {
   "cell_type": "code",
   "execution_count": null,
   "metadata": {},
   "outputs": [],
   "source": [
    "#Source = https://archive.ics.uci.edu/dataset/110/yeast\n",
    "#Tive que fazer algumas modificações no arquivo direto no excel para mudar a delimitação do arquivo csv e alinhar algumas linhas que não estavam alinhadas com as colunas\n",
    "yeast = pd.read_csv(\"./dataSets/yeast/yeast.data.csv\",sep=\";\",header=None)"
   ]
  },
  {
   "cell_type": "code",
   "execution_count": null,
   "metadata": {},
   "outputs": [
    {
     "data": {
      "text/html": [
       "<div>\n",
       "<style scoped>\n",
       "    .dataframe tbody tr th:only-of-type {\n",
       "        vertical-align: middle;\n",
       "    }\n",
       "\n",
       "    .dataframe tbody tr th {\n",
       "        vertical-align: top;\n",
       "    }\n",
       "\n",
       "    .dataframe thead th {\n",
       "        text-align: right;\n",
       "    }\n",
       "</style>\n",
       "<table border=\"1\" class=\"dataframe\">\n",
       "  <thead>\n",
       "    <tr style=\"text-align: right;\">\n",
       "      <th></th>\n",
       "      <th>0</th>\n",
       "      <th>1</th>\n",
       "      <th>2</th>\n",
       "      <th>3</th>\n",
       "      <th>4</th>\n",
       "      <th>5</th>\n",
       "      <th>6</th>\n",
       "      <th>7</th>\n",
       "      <th>8</th>\n",
       "      <th>9</th>\n",
       "    </tr>\n",
       "  </thead>\n",
       "  <tbody>\n",
       "    <tr>\n",
       "      <th>0</th>\n",
       "      <td>ADT1_YEAST</td>\n",
       "      <td>0.58</td>\n",
       "      <td>0.61</td>\n",
       "      <td>0.47</td>\n",
       "      <td>0.13</td>\n",
       "      <td>0.5</td>\n",
       "      <td>0.0</td>\n",
       "      <td>0.48</td>\n",
       "      <td>0.22</td>\n",
       "      <td>MIT</td>\n",
       "    </tr>\n",
       "    <tr>\n",
       "      <th>1</th>\n",
       "      <td>ADT2_YEAST</td>\n",
       "      <td>0.43</td>\n",
       "      <td>0.67</td>\n",
       "      <td>0.48</td>\n",
       "      <td>0.27</td>\n",
       "      <td>0.5</td>\n",
       "      <td>0.0</td>\n",
       "      <td>0.53</td>\n",
       "      <td>0.22</td>\n",
       "      <td>MIT</td>\n",
       "    </tr>\n",
       "    <tr>\n",
       "      <th>2</th>\n",
       "      <td>ADT3_YEAST</td>\n",
       "      <td>0.64</td>\n",
       "      <td>0.62</td>\n",
       "      <td>0.49</td>\n",
       "      <td>0.15</td>\n",
       "      <td>0.5</td>\n",
       "      <td>0.0</td>\n",
       "      <td>0.53</td>\n",
       "      <td>0.22</td>\n",
       "      <td>MIT</td>\n",
       "    </tr>\n",
       "    <tr>\n",
       "      <th>3</th>\n",
       "      <td>AAR2_YEAST</td>\n",
       "      <td>0.58</td>\n",
       "      <td>0.44</td>\n",
       "      <td>0.57</td>\n",
       "      <td>0.13</td>\n",
       "      <td>0.5</td>\n",
       "      <td>0.0</td>\n",
       "      <td>0.54</td>\n",
       "      <td>0.22</td>\n",
       "      <td>NUC</td>\n",
       "    </tr>\n",
       "    <tr>\n",
       "      <th>4</th>\n",
       "      <td>AATM_YEAST</td>\n",
       "      <td>0.42</td>\n",
       "      <td>0.44</td>\n",
       "      <td>0.48</td>\n",
       "      <td>0.54</td>\n",
       "      <td>0.5</td>\n",
       "      <td>0.0</td>\n",
       "      <td>0.48</td>\n",
       "      <td>0.22</td>\n",
       "      <td>MIT</td>\n",
       "    </tr>\n",
       "    <tr>\n",
       "      <th>...</th>\n",
       "      <td>...</td>\n",
       "      <td>...</td>\n",
       "      <td>...</td>\n",
       "      <td>...</td>\n",
       "      <td>...</td>\n",
       "      <td>...</td>\n",
       "      <td>...</td>\n",
       "      <td>...</td>\n",
       "      <td>...</td>\n",
       "      <td>...</td>\n",
       "    </tr>\n",
       "    <tr>\n",
       "      <th>1479</th>\n",
       "      <td>YUR1_YEAST</td>\n",
       "      <td>0.81</td>\n",
       "      <td>0.62</td>\n",
       "      <td>0.43</td>\n",
       "      <td>0.17</td>\n",
       "      <td>0.5</td>\n",
       "      <td>0.0</td>\n",
       "      <td>0.53</td>\n",
       "      <td>0.22</td>\n",
       "      <td>ME2</td>\n",
       "    </tr>\n",
       "    <tr>\n",
       "      <th>1480</th>\n",
       "      <td>ZIP1_YEAST</td>\n",
       "      <td>0.47</td>\n",
       "      <td>0.43</td>\n",
       "      <td>0.61</td>\n",
       "      <td>0.40</td>\n",
       "      <td>0.5</td>\n",
       "      <td>0.0</td>\n",
       "      <td>0.48</td>\n",
       "      <td>0.47</td>\n",
       "      <td>NUC</td>\n",
       "    </tr>\n",
       "    <tr>\n",
       "      <th>1481</th>\n",
       "      <td>ZNRP_YEAST</td>\n",
       "      <td>0.67</td>\n",
       "      <td>0.57</td>\n",
       "      <td>0.36</td>\n",
       "      <td>0.19</td>\n",
       "      <td>0.5</td>\n",
       "      <td>0.0</td>\n",
       "      <td>0.56</td>\n",
       "      <td>0.22</td>\n",
       "      <td>ME2</td>\n",
       "    </tr>\n",
       "    <tr>\n",
       "      <th>1482</th>\n",
       "      <td>ZUO1_YEAST</td>\n",
       "      <td>0.43</td>\n",
       "      <td>0.40</td>\n",
       "      <td>0.60</td>\n",
       "      <td>0.16</td>\n",
       "      <td>0.5</td>\n",
       "      <td>0.0</td>\n",
       "      <td>0.53</td>\n",
       "      <td>0.39</td>\n",
       "      <td>NUC</td>\n",
       "    </tr>\n",
       "    <tr>\n",
       "      <th>1483</th>\n",
       "      <td>G6PD_YEAST</td>\n",
       "      <td>0.65</td>\n",
       "      <td>0.54</td>\n",
       "      <td>0.54</td>\n",
       "      <td>0.13</td>\n",
       "      <td>0.5</td>\n",
       "      <td>0.0</td>\n",
       "      <td>0.53</td>\n",
       "      <td>0.22</td>\n",
       "      <td>CYT</td>\n",
       "    </tr>\n",
       "  </tbody>\n",
       "</table>\n",
       "<p>1484 rows × 10 columns</p>\n",
       "</div>"
      ],
      "text/plain": [
       "               0     1     2     3     4    5    6     7     8    9\n",
       "0     ADT1_YEAST  0.58  0.61  0.47  0.13  0.5  0.0  0.48  0.22  MIT\n",
       "1     ADT2_YEAST  0.43  0.67  0.48  0.27  0.5  0.0  0.53  0.22  MIT\n",
       "2     ADT3_YEAST  0.64  0.62  0.49  0.15  0.5  0.0  0.53  0.22  MIT\n",
       "3     AAR2_YEAST  0.58  0.44  0.57  0.13  0.5  0.0  0.54  0.22  NUC\n",
       "4     AATM_YEAST  0.42  0.44  0.48  0.54  0.5  0.0  0.48  0.22  MIT\n",
       "...          ...   ...   ...   ...   ...  ...  ...   ...   ...  ...\n",
       "1479  YUR1_YEAST  0.81  0.62  0.43  0.17  0.5  0.0  0.53  0.22  ME2\n",
       "1480  ZIP1_YEAST  0.47  0.43  0.61  0.40  0.5  0.0  0.48  0.47  NUC\n",
       "1481  ZNRP_YEAST  0.67  0.57  0.36  0.19  0.5  0.0  0.56  0.22  ME2\n",
       "1482  ZUO1_YEAST  0.43  0.40  0.60  0.16  0.5  0.0  0.53  0.39  NUC\n",
       "1483  G6PD_YEAST  0.65  0.54  0.54  0.13  0.5  0.0  0.53  0.22  CYT\n",
       "\n",
       "[1484 rows x 10 columns]"
      ]
     },
     "execution_count": 459,
     "metadata": {},
     "output_type": "execute_result"
    }
   ],
   "source": [
    "pca = PCA(2)\n",
    "data = pca.fit_transform(pen_recog.iloc[:,:-1])\n",
    "label_orig = pen_recog.iloc[:,-1]"
   ]
  },
  {
   "cell_type": "markdown",
   "metadata": {},
   "source": [
    "### Balance (TO-DO)"
   ]
  },
  {
   "cell_type": "code",
   "execution_count": null,
   "metadata": {},
   "outputs": [],
   "source": [
    "#Source = https://sci2s.ugr.es/keel/dataset.php?cod=54\n",
    "balance = pd.read_csv(\"./dataSets/balance.dat.csv\",header=None)"
   ]
  },
  {
   "cell_type": "markdown",
   "metadata": {},
   "source": [
    "### Banana Classification(TO-DO [Maybe Change to another dataset])"
   ]
  },
  {
   "cell_type": "code",
   "execution_count": null,
   "metadata": {},
   "outputs": [],
   "source": [
    "#Source = https://sci2s.ugr.es/keel/dataset.php?cod=182\n",
    "banana = pd.read_csv(\"./dataSets/banana.dat\",header=None)"
   ]
  },
  {
   "cell_type": "code",
   "execution_count": null,
   "metadata": {},
   "outputs": [
    {
     "data": {
      "text/plain": [
       "<matplotlib.collections.PathCollection at 0x24ff28fa3e0>"
      ]
     },
     "execution_count": 467,
     "metadata": {},
     "output_type": "execute_result"
    },
    {
     "data": {
      "image/png": "[encoded data removed]",
      "text/plain": [
       "<Figure size 640x480 with 1 Axes>"
      ]
     },
     "metadata": {},
     "output_type": "display_data"
    }
   ],
   "source": [
    "plt.scatter(banana.iloc[:,0],banana.iloc[:,1])"
   ]
  },
  {
   "cell_type": "markdown",
   "metadata": {},
   "source": [
    "### Hayes Roth (TO-DO)"
   ]
  },
  {
   "cell_type": "code",
   "execution_count": null,
   "metadata": {},
   "outputs": [],
   "source": [
    "#Source = https://sci2s.ugr.es/keel/dataset.php?cod=186\n",
    "hayes_r = pd.read_csv(\"./dataSets/hayes-roth.dat\",header=None,sep=\",\")"
   ]
  },
  {
   "cell_type": "markdown",
   "metadata": {},
   "source": [
    "### Titanic Survival (TO-DO)"
   ]
  },
  {
   "cell_type": "code",
   "execution_count": null,
   "metadata": {},
   "outputs": [],
   "source": [
    "#Source = https://sci2s.ugr.es/keel/dataset.php?cod=189\n",
    "titanic = pd.read_csv(\"./dataSets/titanic.dat\",header=None,sep=\",\")"
   ]
  }
 ],
 "metadata": {
  "kernelspec": {
   "display_name": "Python 3",
   "language": "python",
   "name": "python3"
  },
  "language_info": {
   "codemirror_mode": {
    "name": "ipython",
    "version": 3
   },
   "file_extension": ".py",
   "mimetype": "text/x-python",
   "name": "python",
   "nbconvert_exporter": "python",
   "pygments_lexer": "ipython3",
   "version": "3.11.4"
  }
 },
 "nbformat": 4,
 "nbformat_minor": 2
}
