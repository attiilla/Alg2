{
 "cells": [
  {
   "cell_type": "code",
   "execution_count": 4,
   "metadata": {},
   "outputs": [],
   "source": [
    "import numpy as np\n",
    "import pandas as pd\n",
    "from sklearn.decomposition import PCA\n",
    "from typing import Dict\n",
    "from typing import List"
   ]
  },
  {
   "cell_type": "code",
   "execution_count": 9,
   "metadata": {},
   "outputs": [],
   "source": [
    "class Point:\n",
    "    def __init__(self,a,b):\n",
    "        if b<a:\n",
    "            temp = a\n",
    "            a = b\n",
    "            b = temp\n",
    "        self.x = a\n",
    "        self.y = b\n",
    "\n",
    "    def __add__(self, other):\n",
    "        if isinstance(other, Point):\n",
    "            return Point(self.x+other.x, self.y+other.y)\n",
    "        else:\n",
    "            raise TypeError(\"Unsupported operand type\")\n",
    "        \n",
    "    def __sub__(self, other):\n",
    "        if isinstance(other, Point):\n",
    "            return Point(self.x-other.x, self.y-other.y)\n",
    "        else:\n",
    "            raise TypeError(\"Unsupported operand type\")\n",
    "        \n",
    "    def __str__(self):\n",
    "        return str(self.x)+\"   \"+str(self.y)\n",
    "    \n",
    "    def __lt__(self,other):\n",
    "        if isinstance(other, Point):\n",
    "            return self.x < other.x\n",
    "        else:\n",
    "            raise TypeError(\"Unsupported operand type\")"
   ]
  },
  {
   "cell_type": "code",
   "execution_count": 10,
   "metadata": {},
   "outputs": [],
   "source": [
    "class Segment:\n",
    "    id = 0\n",
    "\n",
    "    def __init__(self,a: Point, b: Point):\n",
    "        if b<a:\n",
    "            temp = a\n",
    "            a = b\n",
    "            b = temp\n",
    "        self.bgn = a\n",
    "        self.end = b\n",
    "        self.inclination = (self.end.y-self.bgn.y)/(self.end.x-self.bgn.x)\n",
    "        self.intercept = self.end.y - (self.inclination * self.end.x)\n",
    "        self.id = 0 #Usado apenas para indicar ordem durante o algoritmo de varredura linear\n",
    "    \n",
    "    def Y_At_X(self,x):\n",
    "        return self.inclination*x+self.intercept\n",
    "\n",
    "\n",
    "    def Invert(self):\n",
    "        temp = self.bgn\n",
    "        self.bgn = self.end\n",
    "        self.end = temp\n",
    "\n",
    "    def __str__(self):\n",
    "        return \"Begin: \"+str(self.bgn.x)+\"   \"+str(self.bgn.y)+\"\\nEnd: \"+str(self.end.x)+\"   \"+str(self.end.y)+\"\\nInclination: \"+str(self.inclination)\n",
    "    \n",
    "    def __lt__(self,other):\n",
    "        if isinstance(other, Segment):\n",
    "            return self.bgn.x < other.bgn.x\n",
    "        else:\n",
    "            raise TypeError(\"Unsupported operand type\")"
   ]
  },
  {
   "cell_type": "markdown",
   "metadata": {},
   "source": [
    "## Primitivas"
   ]
  },
  {
   "cell_type": "code",
   "execution_count": 4,
   "metadata": {},
   "outputs": [],
   "source": [
    "def Clockwise(a: Segment, b: Segment): #returns true if a is clockwise to b\n",
    "    frst_seg = a.end - a.bgn\n",
    "    scnd_seg = b.end - b.bgn\n",
    "    vec_prod = (frst_seg.x*scnd_seg.y)-(frst_seg.y*scnd_seg.x)\n",
    "    if vec_prod>0:\n",
    "        return True\n",
    "    elif vec_prod<0:\n",
    "        return False\n",
    "    else:\n",
    "        raise Exception(\"Segments are parallel\")"
   ]
  },
  {
   "cell_type": "code",
   "execution_count": 5,
   "metadata": {},
   "outputs": [],
   "source": [
    "def SegmentsIntercept(a: Segment,b: Segment):\n",
    "    check_one = Clockwise(a,Segment(a.bgn,b.bgn))\n",
    "    check_two = Clockwise(a,Segment(a.bgn,b.end))\n",
    "    if check_one==check_two:\n",
    "        return False\n",
    "    check_one = Clockwise(b,Segment(b.bgn,a.bgn))\n",
    "    check_two = Clockwise(b,Segment(b.bgn,a.end))\n",
    "    if check_one==check_two:\n",
    "        return False\n",
    "    return True"
   ]
  },
  {
   "cell_type": "markdown",
   "metadata": {},
   "source": [
    "## Data reading and pre-processing"
   ]
  },
  {
   "cell_type": "code",
   "execution_count": null,
   "metadata": {},
   "outputs": [],
   "source": [
    "def SetTwoDimensions(df):\n",
    "    pca = PCA(n_components=2)\n",
    "    pca_result = pca.fit_transform(df)\n",
    "    df_pca = pd.DataFrame(data = pca_result, columns = ['x', 'y'])\n",
    "    return df_pca"
   ]
  },
  {
   "cell_type": "code",
   "execution_count": null,
   "metadata": {},
   "outputs": [],
   "source": [
    "def PreProcessData(path, tgtCol):\n",
    "    df = pd.read_csv(path)\n",
    "    tgtData = df.iloc[:, tgtCol]  # Save the nth column\n",
    "    df = df.drop(df.columns[tgtCol], axis=1)\n",
    "    df = SetTwoDimensions(df)\n",
    "    df['target_data'] = tgtData\n",
    "    return df"
   ]
  },
  {
   "cell_type": "markdown",
   "metadata": {},
   "source": [
    "## Sweep Line"
   ]
  },
  {
   "cell_type": "code",
   "execution_count": null,
   "metadata": {},
   "outputs": [],
   "source": [
    "#Para a varredura funcionar, eu estou supondo que o vetor de valores de x à varrer está ordenado e que o vetor de segmentos foi corretamente pré-computado, \n",
    "#isto é, o vetor de segmentos deve ser ordenado pela função de ordem já definida, não existem 2 pontos extremos com o mesmo valor de x e o segmento que ocupa a \n",
    "#i-ésima posição do vetor de segmentos deve ter id=i\n",
    "\n",
    "#Devido aos cuidados nescessários com isso, também já comecei a implementar as funções que leem os dados e pré-computam tudo para o SweepLine rodar fino\n",
    "#PS: QUE ALGORITMO FEIO DO CARALHO\n",
    "\n",
    "def SweepLine(segment_vector: List[Segment], x_vector):\n",
    "    j = 0\n",
    "    comp = dict()\n",
    "    ans = dict()\n",
    "    scope = []\n",
    "    for i in range(len(x_vector)):\n",
    "        seg = segment_vector[j]\n",
    "        #olhar no escopo se algum segmento já alcançado começa em x==i\n",
    "        if seg.bgn==i:\n",
    "            scope.append(seg)\n",
    "            j+=1\n",
    "            SegmentEnteringComparison(seg,scope,comp)\n",
    "        #olhar no escopo qual dos segmentos termina em x==i\n",
    "        else:\n",
    "            for k in scope:\n",
    "                if k.end==i:\n",
    "                    #compara tudo\n",
    "                    SegmentLeftingComparison(i,seg.id,segment_vector,scope,comp,ans)\n",
    "                    scope.remove(k)\n",
    "    return ans\n",
    "\n",
    "def SegmentEnteringComparison(seg: Segment, scope: List[Segment], comp: Dict[int, Dict[int, bool]]):\n",
    "    above = dict()\n",
    "    for i in scope:\n",
    "        if seg.first.y<i.Y_At_X(seg.first.x):\n",
    "            above[i.id] = False\n",
    "            comp[i.id][seg.id] = True\n",
    "        else:\n",
    "            above[i.id] = True\n",
    "            comp[i.id][seg.id] = False\n",
    "    comp[seg.id] = above\n",
    "\n",
    "def SegmentLeftingComparison(x,\n",
    "                             seg_indx: int, \n",
    "                             segment_vector: List[Segment],  \n",
    "                             comp: Dict[int, Dict[int, bool]], \n",
    "                             ans: Dict[int,List[int]]):\n",
    "    seg = segment_vector[seg_indx]\n",
    "    key = seg.id\n",
    "    for i in comp[key]:\n",
    "        if comp[key][i] != (seg.end.y>segment_vector[i].Y_At_X(x)):\n",
    "            ans[key].append(i)\n",
    "            ans[i].append(key)"
   ]
  }
 ],
 "metadata": {
  "kernelspec": {
   "display_name": "Python 3",
   "language": "python",
   "name": "python3"
  },
  "language_info": {
   "codemirror_mode": {
    "name": "ipython",
    "version": 3
   },
   "file_extension": ".py",
   "mimetype": "text/x-python",
   "name": "python",
   "nbconvert_exporter": "python",
   "pygments_lexer": "ipython3",
   "version": "3.8.10"
  }
 },
 "nbformat": 4,
 "nbformat_minor": 2
}
