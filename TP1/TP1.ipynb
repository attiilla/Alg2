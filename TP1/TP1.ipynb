{
 "cells": [
  {
   "cell_type": "code",
   "execution_count": 295,
   "metadata": {},
   "outputs": [],
   "source": [
    "import numpy as np\n",
    "import pandas as pd\n",
    "import matplotlib.pyplot as plt\n",
    "from sklearn.decomposition import PCA\n",
    "from sortedcontainers import SortedDict\n",
    "import matplotlib.pyplot as plt"
   ]
  },
  {
   "cell_type": "code",
   "execution_count": 253,
   "metadata": {},
   "outputs": [],
   "source": [
    "def PrintSortDict(sd):\n",
    "    for k in sd.keys():\n",
    "        print(f\"{k}: {sd[k]}\")\n",
    "\n",
    "def PrintKeys(sd):\n",
    "    for k in sd.keys():\n",
    "        print(f\"{k}; \")\n",
    "\n",
    "def PrintScope(sd):\n",
    "    for k in sd.keys():\n",
    "        print(f\"Vizinhos de {k.id}: \")\n",
    "        for kk in sd[k].keys():\n",
    "            print(f\"{kk.id}: {sd[k][kk]}\")"
   ]
  },
  {
   "cell_type": "code",
   "execution_count": 254,
   "metadata": {},
   "outputs": [],
   "source": [
    "class Point:\n",
    "    #id = 1\n",
    "    def __init__(self,a,b, c = 0, shake=1e-5):\n",
    "        #self.id = Point.id\n",
    "        #Point.id+=1\n",
    "        shakes = np.random.uniform(-shake, shake, 2)\n",
    "        self.x = a+shakes[0]\n",
    "        self.y = b+shakes[1]\n",
    "        self.classe = c\n",
    "\n",
    "    def __add__(self, other):\n",
    "        if isinstance(other, Point):\n",
    "            return Point(self.x+other.x, self.y+other.y)\n",
    "        elif isinstance(other, np.ndarray):\n",
    "            return Point(self.x+other[0],self.y+other[1],shake=0)\n",
    "        else:\n",
    "            raise TypeError(\"Unsupported operand type\")\n",
    "        \n",
    "    def __sub__(self, other):\n",
    "        if isinstance(other, Point):\n",
    "            return Point(self.x-other.x, self.y-other.y)\n",
    "        else:\n",
    "            raise TypeError(\"Unsupported operand type\")\n",
    "        \n",
    "    def __str__(self):\n",
    "        return str(self.id)+\": \"+str(self.x)+\"   \"+str(self.y)\n",
    "    \n",
    "\n",
    "    def __lt__(self,other):\n",
    "        if isinstance(other, Point):\n",
    "            vec_prod = (self.x*other.y)-(self.y*other.x)\n",
    "            if vec_prod>0:\n",
    "                return True\n",
    "            elif vec_prod<0 or (self.x==other.x and self.y==other.y):\n",
    "                return False            \n",
    "            else:\n",
    "                raise Exception(f\"Segments ending in {self} and {other} are parallel\")\n",
    "        else:\n",
    "            raise TypeError(\"Unsupported operand type\")\n",
    "        \n",
    "    \n",
    "        \n",
    "    def Shake(self,shake):\n",
    "        shakes = np.random.uniform(-shake,shake,2)\n",
    "        self.x+=shakes[0]\n",
    "        self.y+=shakes[1]\n",
    "        return self\n",
    "\n",
    "    def Reset():\n",
    "        Point.id = 1\n",
    "\n",
    "def X_Coord(point):\n",
    "    return point.x"
   ]
  },
  {
   "cell_type": "code",
   "execution_count": 255,
   "metadata": {},
   "outputs": [],
   "source": [
    "class Segment:\n",
    "    id = 1\n",
    "    def __init__(self,a: Point, b: Point, enforce_order=True, shake = 0):\n",
    "        if b.x<a.x and enforce_order:\n",
    "            temp = a\n",
    "            a = b\n",
    "            b = temp\n",
    "        self.bgn = a.Shake(shake)\n",
    "        self.end = b.Shake(shake)\n",
    "        self.slope = (self.end.y-self.bgn.y)/(self.end.x-self.bgn.x)\n",
    "        self.intercept = self.end.y - (self.slope * self.end.x)\n",
    "        self.id = Segment.id\n",
    "        Segment.id+=1\n",
    "        \n",
    "    \n",
    "    def Y_At_X(self,x):\n",
    "        return self.slope*x+self.intercept\n",
    "\n",
    "\n",
    "    def Invert(self):\n",
    "        temp = self.bgn\n",
    "        self.bgn = self.end\n",
    "        self.end = temp\n",
    "\n",
    "\n",
    "    def __str__(self):\n",
    "        return \"Id: \"+str(self.id)+\"\\nBegin: \"+str(self.bgn.x)+\"   \"+str(self.bgn.y)+\"\\nEnd: \"+str(self.end.x)+\"   \"+str(self.end.y)\n",
    "    \n",
    "    def __lt__(self,other):\n",
    "        if isinstance(other, Segment):\n",
    "            return self.bgn.x < other.bgn.x\n",
    "        else:\n",
    "            raise TypeError(\"Unsupported operand type\")\n",
    "        \n",
    "    def Reset():\n",
    "        Segment.id = 1"
   ]
  },
  {
   "cell_type": "code",
   "execution_count": 256,
   "metadata": {},
   "outputs": [],
   "source": [
    "class LimitPoint:\n",
    "    def __init__(self,p,i):\n",
    "        self.point = p\n",
    "        self.is_end = i\n",
    "\n",
    "    def __lt__(self,other):\n",
    "        if isinstance(other, LimitPoint):\n",
    "            return self.point.x < other.point.x\n",
    "        else:\n",
    "            raise TypeError(\"Unsupported operand type\")"
   ]
  },
  {
   "cell_type": "code",
   "execution_count": 257,
   "metadata": {},
   "outputs": [],
   "source": [
    "class PointWrap:\n",
    "    def __init__(self,pt: Point):\n",
    "        self.p = pt\n",
    "\n",
    "    def __lt__(self,other):\n",
    "        return self.p.x<other.p.x"
   ]
  },
  {
   "cell_type": "markdown",
   "metadata": {},
   "source": [
    "## Primitivas"
   ]
  },
  {
   "cell_type": "code",
   "execution_count": 258,
   "metadata": {},
   "outputs": [],
   "source": [
    "def Clockwise(a: Segment, b: Segment): #returns true if a is clockwise to b\n",
    "    frst_seg = a.end - a.bgn\n",
    "    scnd_seg = b.end - b.bgn\n",
    "    vec_prod = (frst_seg.x*scnd_seg.y)-(frst_seg.y*scnd_seg.x)\n",
    "    if vec_prod>0:\n",
    "        return True\n",
    "    elif vec_prod<0:\n",
    "        return False\n",
    "    else:\n",
    "        print(a)\n",
    "        print(b)\n",
    "        raise Exception(\"Segments are parallel\")"
   ]
  },
  {
   "cell_type": "code",
   "execution_count": 259,
   "metadata": {},
   "outputs": [],
   "source": [
    "def SegmentsIntercept(a: Segment,b: Segment):\n",
    "    check_one = Clockwise(a,Segment(a.bgn,b.bgn))\n",
    "    check_two = Clockwise(a,Segment(a.bgn,b.end))\n",
    "    if check_one==check_two:\n",
    "        return False\n",
    "    check_one = Clockwise(b,Segment(b.bgn,a.bgn))\n",
    "    check_two = Clockwise(b,Segment(b.bgn,a.end))\n",
    "    if check_one==check_two:\n",
    "        return False\n",
    "    return True"
   ]
  },
  {
   "cell_type": "markdown",
   "metadata": {},
   "source": [
    "## Data reading and pre-processing"
   ]
  },
  {
   "cell_type": "code",
   "execution_count": 260,
   "metadata": {},
   "outputs": [],
   "source": [
    "def SetTwoDimensions(df):\n",
    "    pca = PCA(n_components=2)\n",
    "    pca_result = pca.fit_transform(df)\n",
    "    df_pca = pd.DataFrame(data = pca_result, columns = ['x', 'y'])\n",
    "    return df_pca"
   ]
  },
  {
   "cell_type": "code",
   "execution_count": 261,
   "metadata": {},
   "outputs": [],
   "source": [
    "def PreProcessData(path, tgtCol):\n",
    "    df = pd.read_csv(path)\n",
    "    tgtData = df.iloc[:, tgtCol]  # Save the nth column\n",
    "    df = df.drop(df.columns[tgtCol], axis=1)\n",
    "    df = SetTwoDimensions(df)\n",
    "    df['target_data'] = tgtData\n",
    "    return df"
   ]
  },
  {
   "cell_type": "code",
   "execution_count": 262,
   "metadata": {},
   "outputs": [],
   "source": [
    "def ExtractPoints(df):\n",
    "    rb_tree_points = SortedDict(X_Coord)\n",
    "    for i in range(len(df)):\n",
    "        p = Point(df.loc[i, \"x\"], df.loc[i, \"y\"], df.loc[i,\"target_data\"])\n",
    "        rb_tree_points[p] = None\n",
    "    return rb_tree_points\n"
   ]
  },
  {
   "cell_type": "code",
   "execution_count": 263,
   "metadata": {},
   "outputs": [],
   "source": [
    "def ReadData(path, tgtCol):\n",
    "    df = PreProcessData(path, tgtCol)\n",
    "    rb_tree_points = ExtractPoints(df)\n",
    "    return rb_tree_points\n"
   ]
  },
  {
   "cell_type": "markdown",
   "metadata": {},
   "source": [
    "## Convex Hull"
   ]
  },
  {
   "cell_type": "code",
   "execution_count": 264,
   "metadata": {},
   "outputs": [],
   "source": [
    "def get_next_key(sd, key):\n",
    "    idx = sd.bisect(key)\n",
    "    return sd.iloc[idx] if idx < len(sd) else sd.iloc[0]\n",
    "\n",
    "def get_previous_key(sd, key):\n",
    "    idx = sd.bisect_left(key)\n",
    "    return sd.iloc[idx - 1] if idx > 0 else sd.iloc[len(sd)-1]"
   ]
  },
  {
   "cell_type": "code",
   "execution_count": 265,
   "metadata": {},
   "outputs": [],
   "source": [
    "def print_convex_hull(hull,points):\n",
    "    polar_hull = SortedDict()\n",
    "    for key in hull.keys():\n",
    "        polar_hull[key] = None\n",
    "\n",
    "    keys = list(polar_hull.keys())\n",
    "    x = []\n",
    "    y = []\n",
    "    for key in polar_hull.keys():\n",
    "        x.append(key.x)\n",
    "        y.append(key.y)\n",
    "    x.append(x[0])\n",
    "    y.append(y[0])\n",
    "\n",
    "    ps = []\n",
    "    for p in points.items():\n",
    "        ps.append(p[0])\n",
    "    xs = list(map(lambda p:p.x,ps))\n",
    "    ys = list(map(lambda p:p.y,ps))\n",
    "\n",
    "    plt.plot(x,y)\n",
    "    plt.scatter(xs,ys)\n",
    "    plt.show()"
   ]
  },
  {
   "cell_type": "code",
   "execution_count": 266,
   "metadata": {},
   "outputs": [],
   "source": [
    "def ConvexHull(rb_tree_points):\n",
    "    hull_points = SortedDict(lambda p:p.x)\n",
    "\n",
    "    p0 = rb_tree_points.peekitem(0)[0]\n",
    "    p1 = rb_tree_points.peekitem(1)[0]\n",
    "    p2 = rb_tree_points.peekitem(2)[0]\n",
    "\n",
    "    hull_points[p0] = None\n",
    "    hull_points[p1] = None\n",
    "    hull_points[p2] = None\n",
    "    \n",
    "    print_convex_hull(hull_points,rb_tree_points)\n",
    "\n",
    "    #for p in hull_points.items():\n",
    "        #print(p[0].x,p[0].y)\n",
    "\n",
    "    it_points = list(rb_tree_points.keys())\n",
    "    for p in it_points[3:]:\n",
    "        j = -1\n",
    "        \n",
    "        #Update upper bound\n",
    "        u = j\n",
    "        p_i_m1 = (j-1) % len(hull_points)\n",
    "        \n",
    "        while(Clockwise(\n",
    "                        Segment(hull_points.items()[p_i_m1][0],p),\n",
    "                        Segment(hull_points.items()[p_i_m1][0],hull_points.items()[u][0])\n",
    "                        )):\n",
    "            if(u != j):\n",
    "                \n",
    "                hull_points.pop(hull_points.items()[u][0])\n",
    "\n",
    "            u = (u-1)%len(hull_points)\n",
    "            p_i_m1 = (u-1)%len(hull_points)\n",
    "        \n",
    "        #Update lower bound\n",
    "        l = 0\n",
    "        p_i_p2 = (l+1) % len(hull_points)\n",
    "\n",
    "        while(Clockwise(\n",
    "                        Segment(p,hull_points.items()[l][0]),\n",
    "                        Segment(p,hull_points.items()[p_i_p2][0])\n",
    "                        )\n",
    "            ):\n",
    "            if(l != u):  \n",
    "                hull_points.pop(hull_points.items()[l][0])\n",
    "            l = (l+1)%len(hull_points)\n",
    "            p_i_p2 = (l+1)%len(hull_points)\n",
    "        \n",
    "        # Necessário encontrar uma função que insira o ponto em uma posição específica do ponto\n",
    "        hull_points[p] = None\n",
    "        #print_convex_hull(hull_points,rb_tree_points)\n",
    "    return hull_points"
   ]
  },
  {
   "cell_type": "code",
   "execution_count": 267,
   "metadata": {},
   "outputs": [
    {
     "data": {
      "image/png": "[encoded data removed]",
      "text/plain": [
       "<Figure size 640x480 with 1 Axes>"
      ]
     },
     "metadata": {},
     "output_type": "display_data"
    }
   ],
   "source": [
    "rbt = SortedDict(lambda p: p.x)\n",
    "#Test convex hull\n",
    "p1 = Point(1,0)\n",
    "p2 = Point(2,3)\n",
    "p3 = Point(5,2)\n",
    "p4 = Point(6,5)\n",
    "p5 = Point(0,4)\n",
    "\n",
    "rbt[p1] = None\n",
    "rbt[p2] = None\n",
    "rbt[p3] = None\n",
    "rbt[p4] = None\n",
    "rbt[p5] = None\n",
    "\n",
    "ch = ConvexHull(rbt)"
   ]
  },
  {
   "cell_type": "code",
   "execution_count": 268,
   "metadata": {},
   "outputs": [
    {
     "data": {
      "text/plain": [
       "SortedKeysView(SortedDict(<function <lambda> at 0x0000024FE55164D0>, {<__main__.Point object at 0x0000024FEBCC3FA0>: None, <__main__.Point object at 0x0000024FEBCC2200>: None, <__main__.Point object at 0x0000024FEBCC11E0>: None, <__main__.Point object at 0x0000024FEBCC2320>: None, <__main__.Point object at 0x0000024FEBCC2530>: None}))"
      ]
     },
     "execution_count": 268,
     "metadata": {},
     "output_type": "execute_result"
    }
   ],
   "source": [
    "rbt.keys()"
   ]
  },
  {
   "cell_type": "code",
   "execution_count": 269,
   "metadata": {},
   "outputs": [],
   "source": [
    "def PrintHullA(polar_hull):\n",
    "    x = []\n",
    "    y = []\n",
    "    for key in polar_hull.keys():\n",
    "        x.append(key.x)\n",
    "        y.append(key.y)\n",
    "    x.append(x[0])\n",
    "    y.append(y[0])\n",
    "    plt.plot(x, y, marker='o', color='b')\n",
    "\n",
    "def PrintPoints(rb):\n",
    "    x = []\n",
    "    y = []\n",
    "    for k in rb.keys():\n",
    "        x.append(k.x)\n",
    "        y.append(k.y)\n",
    "    plt.scatter(x,y)"
   ]
  },
  {
   "cell_type": "code",
   "execution_count": 270,
   "metadata": {},
   "outputs": [],
   "source": [
    "def ConvexHullA(rb_tree_points):\n",
    "    #hull_points = SortedDict()\n",
    "    polar_hull = SortedDict()\n",
    "    p0 = rb_tree_points.peekitem(0)[0]\n",
    "    p1 = rb_tree_points.peekitem(1)[0]\n",
    "    p2 = rb_tree_points.peekitem(2)[0]\n",
    "    #hull_points[PointWrap(p0)] = None\n",
    "    #hull_points[PointWrap(p1)] = None\n",
    "    #hull_points[PointWrap(p2)] = None\n",
    "    polar_hull[p0] = None\n",
    "    polar_hull[p1] = None\n",
    "    polar_hull[p2] = None\n",
    "\n",
    "    it_points = list(rb_tree_points.keys())\n",
    "    for p in it_points[3:]:\n",
    "        polar_hull[p] = None\n",
    "        n = len(polar_hull)\n",
    "        index_cclock_comparable = (polar_hull.index(p)+1)%n\n",
    "        compare_cclock = polar_hull.iloc[index_cclock_comparable]   #first element to search counter-clockwise the vertex that links to p in the old hull\n",
    "        searching_cclock = True\n",
    "\n",
    "\n",
    "        index_clock_comparable = (polar_hull.index(p)-1)%n\n",
    "        compare_clock = polar_hull.iloc[index_clock_comparable]      #first element to search clockwise the vertex that links to p in the old hull\n",
    "        searching_clock = True\n",
    "        #PrintKeys(polar_hull) ###\n",
    "        del polar_hull[p]\n",
    "        n = len(polar_hull)\n",
    "        removal = dict()\n",
    "        #searching for parallel segment counter_clockwise\n",
    "        #print(f\"The new point is {p}\")\n",
    "        while searching_cclock:\n",
    "            index_cclock_comparable = polar_hull.index(compare_cclock)\n",
    "            #print(f\"The anchor is {compare_cclock}\")\n",
    "            window = [(index_cclock_comparable-1)%n, (index_cclock_comparable+1)%n]\n",
    "            seg1 = Segment(polar_hull.iloc[window[1]], compare_cclock, enforce_order=False,shake=1e-5)\n",
    "            seg2 = Segment(compare_cclock, polar_hull.iloc[window[0]], enforce_order=False,shake=1e-5)\n",
    "            seg0 = Segment(compare_cclock, p, enforce_order=False, shake=1e-5)\n",
    "            \n",
    "            #print(f\"Segments:\\nseg0: {seg0}\\nseg1: {seg1}\\nseg2{seg2}\")\n",
    "            if Clockwise(seg1,seg0) != Clockwise(seg2,seg0):\n",
    "                #print(\"Found\")\n",
    "                searching_cclock = False\n",
    "            else:\n",
    "                #print(\"Mark to remove:\")\n",
    "                #print(compare_cclock)\n",
    "                removal[compare_cclock] = None\n",
    "                #print(\"marked\")\n",
    "                compare_cclock = polar_hull.iloc[window[1]]\n",
    "\n",
    "        #searching for parallel segment clockwise\n",
    "        while searching_clock:\n",
    "            index_clock_comparable = polar_hull.index(compare_clock)\n",
    "            #print(f\"The anchor is {compare_clock}\")\n",
    "            window = [(index_clock_comparable+1)%n, (index_clock_comparable-1)%n]\n",
    "            seg1 = Segment(polar_hull.iloc[window[1]], compare_clock, enforce_order=False,shake=1e-5)##\n",
    "            seg2 = Segment(compare_clock, polar_hull.iloc[window[0]], enforce_order=False,shake=1e-5)##\n",
    "            seg0 = Segment(compare_clock, p, enforce_order=False,shake=1e-5)\n",
    "            #print(f\"Segments:\\nseg0: {seg0}\\nseg1: {seg1}\\nseg2: {seg2}\")\n",
    "            if Clockwise(seg1,seg0) != Clockwise(seg2,seg0):\n",
    "                #print(\"Found\")\n",
    "                searching_clock = False\n",
    "            else:\n",
    "                #print(\"Mark to remove:\")\n",
    "                #print(compare_clock)\n",
    "                removal[compare_clock] = None\n",
    "                #print(\"marked\")\n",
    "                compare_clock = polar_hull.iloc[window[1]]\n",
    "        #print(\"removal\")\n",
    "        for to_remove in removal:\n",
    "            #print(to_remove)\n",
    "            #PrintKeys(polar_hull)\n",
    "            del polar_hull[to_remove]\n",
    "            #print(\"after removal\")\n",
    "            #PrintKeys(polar_hull)\n",
    "    \n",
    "        polar_hull[p] = None\n",
    "        #hull_points[p] = None\n",
    "    return polar_hull"
   ]
  },
  {
   "cell_type": "code",
   "execution_count": 271,
   "metadata": {},
   "outputs": [
    {
     "name": "stderr",
     "output_type": "stream",
     "text": [
      "C:\\Users\\Gabri\\AppData\\Local\\Temp\\ipykernel_16492\\924946608.py:19: DeprecationWarning: sorted_dict.iloc is deprecated. Use SortedDict.keys() instead.\n",
      "  compare_cclock = polar_hull.iloc[index_cclock_comparable]   #first element to search counter-clockwise the vertex that links to p in the old hull\n"
     ]
    },
    {
     "data": {
      "image/png": "[encoded data removed]",
      "text/plain": [
       "<Figure size 640x480 with 1 Axes>"
      ]
     },
     "metadata": {},
     "output_type": "display_data"
    }
   ],
   "source": [
    "Point.Reset()\n",
    "Segment.Reset()\n",
    "rbt = SortedDict(lambda p: p.x)\n",
    "#Test convex hull\n",
    "p1 = Point(1,0)\n",
    "p2 = Point(2,3)\n",
    "p3 = Point(5,2)\n",
    "p4 = Point(6,5)\n",
    "p5 = Point(0,4)\n",
    "\n",
    "rbt[p1] = None\n",
    "rbt[p2] = None\n",
    "rbt[p3] = None\n",
    "rbt[p4] = None\n",
    "rbt[p5] = None\n",
    "#PrintPoints(rbt)\n",
    "ph = ConvexHullA(rbt)\n",
    "PrintPoints(ph)\n",
    "PrintHullA(ph)"
   ]
  },
  {
   "cell_type": "code",
   "execution_count": 283,
   "metadata": {},
   "outputs": [],
   "source": [
    "def ConvexHullA_BUG_NO_SISTEMA_ALGUEM_ME_DESCONFIGUROU(rb_tree_points):\n",
    "    hull_points = SortedDict(X_Coord)\n",
    "    polar_hull = SortedDict()\n",
    "    p0 = rb_tree_points.peekitem(0)[0]\n",
    "    p1 = rb_tree_points.peekitem(1)[0]\n",
    "    p2 = rb_tree_points.peekitem(2)[0]\n",
    "    hull_points[p0] = None\n",
    "    hull_points[p1] = None\n",
    "    hull_points[p2] = None\n",
    "    polar_hull[p0] = None\n",
    "    polar_hull[p1] = None\n",
    "    polar_hull[p2] = None\n",
    "\n",
    "    it_points = list(rb_tree_points.keys())\n",
    "    for p in it_points[3:]:\n",
    "        polar_hull[p] = None\n",
    "        n = len(polar_hull)\n",
    "        index_cclock_comparable = (polar_hull.index(p)+1)%n\n",
    "        compare_cclock = polar_hull.iloc[index_cclock_comparable]   #first element to search counter-clockwise the vertex that links to p in the old hull\n",
    "        searching_cclock = True\n",
    "\n",
    "\n",
    "        index_clock_comparable = (polar_hull.index(p)-1)%n\n",
    "        compare_clock = polar_hull.iloc[index_clock_comparable]      #first element to search clockwise the vertex that links to p in the old hull\n",
    "        searching_clock = True\n",
    "        PrintKeys(polar_hull) ###\n",
    "        polar_hull.pop(p,0)\n",
    "        n = len(polar_hull)\n",
    "        removal = dict()\n",
    "        #searching for parallel segment counter_clockwise\n",
    "        print(f\"The new point is {p}\")\n",
    "        while searching_cclock:\n",
    "            index_cclock_comparable = polar_hull.index(compare_cclock)\n",
    "            print(f\"The anchor is {compare_cclock}\")\n",
    "            window = [(index_cclock_comparable-1)%n, (index_cclock_comparable+1)%n]\n",
    "            seg1 = Segment(polar_hull.iloc[window[1]], compare_cclock, enforce_order=False,shake=1e-5)\n",
    "            seg2 = Segment(compare_cclock, polar_hull.iloc[window[0]], enforce_order=False,shake=1e-5)\n",
    "            seg0 = Segment(compare_cclock, p, enforce_order=False, shake=1e-5)\n",
    "            \n",
    "            print(f\"Segments:\\nseg0: {seg0}\\nseg1: {seg1}\\nseg2{seg2}\")\n",
    "            if Clockwise(seg1,seg0) != Clockwise(seg2,seg0):\n",
    "                print(\"Found\")\n",
    "                searching_cclock = False\n",
    "            else:\n",
    "                print(\"Mark to remove:\")\n",
    "                print(compare_cclock)\n",
    "                removal[compare_cclock] = None\n",
    "                print(\"marked\")\n",
    "                compare_cclock = polar_hull.iloc[window[1]]\n",
    "\n",
    "        #searching for parallel segment clockwise\n",
    "        while searching_clock:\n",
    "            index_clock_comparable = polar_hull.index(compare_clock)\n",
    "            print(f\"The anchor is {compare_clock}\")\n",
    "            window = [(index_clock_comparable+1)%n, (index_clock_comparable-1)%n]\n",
    "            seg1 = Segment(polar_hull.iloc[window[1]], compare_clock, enforce_order=False,shake=1e-5)##\n",
    "            seg2 = Segment(compare_clock, polar_hull.iloc[window[0]], enforce_order=False,shake=1e-5)##\n",
    "            seg0 = Segment(compare_clock, p, enforce_order=False,shake=1e-5)\n",
    "            print(f\"Segments:\\nseg0: {seg0}\\nseg1: {seg1}\\nseg2: {seg2}\")\n",
    "            if Clockwise(seg1,seg0) != Clockwise(seg2,seg0):\n",
    "                print(\"Found\")\n",
    "                searching_clock = False\n",
    "            else:\n",
    "                print(\"Mark to remove:\")\n",
    "                print(compare_clock)\n",
    "                removal[compare_clock] = None\n",
    "                print(\"marked\")\n",
    "                compare_clock = polar_hull.iloc[window[1]]\n",
    "        \n",
    "        print(\"polar\")\n",
    "        PrintKeys(polar_hull)\n",
    "\n",
    "        print(\"cartesian\")\n",
    "        PrintKeys(hull_points)\n",
    "        for to_remove in removal:\n",
    "            polar_hull.pop(to_remove,0)\n",
    "\n",
    "            for key in hull_points.keys(): ###key saiu de hull_points\n",
    "\n",
    "                if key==to_remove: \n",
    "                    print(key)###Bug porque não consegue achar key em hull_points\n",
    "                    hull_points.pop(key) ###Bug porque não consegue achar key em hull_points\n",
    "                    \n",
    "        polar_hull[p] = None\n",
    "        hull_points[p] = None\n",
    "    return hull_points, polar_hull"
   ]
  },
  {
   "cell_type": "code",
   "execution_count": 284,
   "metadata": {},
   "outputs": [
    {
     "name": "stdout",
     "output_type": "stream",
     "text": [
      "None\n",
      "None\n",
      "None\n",
      "None\n",
      "None\n"
     ]
    }
   ],
   "source": [
    "for key in rbt.keys():\n",
    "    print(rbt[key])"
   ]
  },
  {
   "cell_type": "code",
   "execution_count": 285,
   "metadata": {},
   "outputs": [
    {
     "name": "stdout",
     "output_type": "stream",
     "text": [
      "1: 1.0000048939246668   -7.295362021837649e-07; \n",
      "1: 4.999993729697331   2.000008750136028; \n",
      "1: 1.9999935985259334   3.000002659529288; \n",
      "1: 8.027195082090982e-06   4.000008539295147; \n",
      "The new point is 1: 4.999993729697331   2.000008750136028\n",
      "The anchor is 1: 1.9999935985259334   3.000002659529288\n",
      "Segments:\n",
      "seg0: Id: 3\n",
      "Begin: 1.9999891633877778   2.999994453187547\n",
      "End: 5.000002061677381   2.000010244701655\n",
      "seg1: Id: 1\n",
      "Begin: 1.5162096351843853e-05   3.9999994795389737\n",
      "End: 1.9999891633877778   2.999994453187547\n",
      "seg2Id: 2\n",
      "Begin: 1.9999891633877778   2.999994453187547\n",
      "End: 1.0000124078015202   6.7712459686826115e-06\n",
      "Mark to remove:\n",
      "1: 1.9999891633877778   2.999994453187547\n",
      "marked\n",
      "The anchor is 1: 1.5162096351843853e-05   3.9999994795389737\n",
      "Segments:\n",
      "seg0: Id: 6\n",
      "Begin: 1.1763651112941774e-05   4.000010048910261\n",
      "End: 5.000004050421316   2.0000126839152483\n",
      "seg1: Id: 4\n",
      "Begin: 1.00000876649991   6.996046964008012e-06\n",
      "End: 1.1763651112941774e-05   4.000010048910261\n",
      "seg2Id: 5\n",
      "Begin: 1.1763651112941774e-05   4.000010048910261\n",
      "End: 1.9999944315136355   2.9999979151127607\n",
      "Found\n",
      "The anchor is 1: 1.00000876649991   6.996046964008012e-06\n",
      "Segments:\n",
      "seg0: Id: 9\n",
      "Begin: 0.9999968310648655   5.440860210086293e-06\n",
      "End: 4.999999657105772   2.0000186731516174\n",
      "seg1: Id: 7\n",
      "Begin: 7.585127194200361e-06   4.000018293193798\n",
      "End: 0.9999968310648655   5.440860210086293e-06\n",
      "seg2: Id: 8\n",
      "Begin: 0.9999968310648655   5.440860210086293e-06\n",
      "End: 1.9999849955822004   3.0000017176440164\n",
      "Found\n",
      "polar\n",
      "1: 0.9999968310648655   5.440860210086293e-06; \n",
      "1: 1.9999849955822004   3.0000017176440164; \n",
      "1: 7.585127194200361e-06   4.000018293193798; \n",
      "cartesian\n",
      "1: 7.585127194200361e-06   4.000018293193798; \n",
      "1: 0.9999968310648655   5.440860210086293e-06; \n",
      "1: 1.9999849955822004   3.0000017176440164; \n",
      "1: 1.9999849955822004   3.0000017176440164\n"
     ]
    },
    {
     "name": "stderr",
     "output_type": "stream",
     "text": [
      "C:\\Users\\Gabri\\AppData\\Local\\Temp\\ipykernel_16492\\2013127985.py:19: DeprecationWarning: sorted_dict.iloc is deprecated. Use SortedDict.keys() instead.\n",
      "  compare_cclock = polar_hull.iloc[index_cclock_comparable]   #first element to search counter-clockwise the vertex that links to p in the old hull\n"
     ]
    },
    {
     "ename": "ValueError",
     "evalue": "<__main__.Point object at 0x0000024FEAB87220> not in list",
     "output_type": "error",
     "traceback": [
      "\u001b[1;31m---------------------------------------------------------------------------\u001b[0m",
      "\u001b[1;31mValueError\u001b[0m                                Traceback (most recent call last)",
      "Cell \u001b[1;32mIn[285], line 17\u001b[0m\n\u001b[0;32m     15\u001b[0m rbt[p5] \u001b[39m=\u001b[39m \u001b[39mNone\u001b[39;00m\n\u001b[0;32m     16\u001b[0m \u001b[39m#PrintPoints(rbt)\u001b[39;00m\n\u001b[1;32m---> 17\u001b[0m ch, ph \u001b[39m=\u001b[39m ConvexHullA_BUG_NO_SISTEMA_ALGUEM_ME_DESCONFIGUROU(rbt)\n\u001b[0;32m     18\u001b[0m PrintPoints(ch)\n\u001b[0;32m     19\u001b[0m \u001b[39m#PrintHullA(ph)\u001b[39;00m\n",
      "Cell \u001b[1;32mIn[283], line 79\u001b[0m, in \u001b[0;36mConvexHullA_BUG_NO_SISTEMA_ALGUEM_ME_DESCONFIGUROU\u001b[1;34m(rb_tree_points)\u001b[0m\n\u001b[0;32m     77\u001b[0m         \u001b[39mif\u001b[39;00m key\u001b[39m==\u001b[39mto_remove: \n\u001b[0;32m     78\u001b[0m             \u001b[39mprint\u001b[39m(key)\u001b[39m###Bug porque não consegue achar key em hull_points\u001b[39;00m\n\u001b[1;32m---> 79\u001b[0m             hull_points\u001b[39m.\u001b[39;49mpop(key) \u001b[39m###Bug porque não consegue achar key em hull_points\u001b[39;00m\n\u001b[0;32m     80\u001b[0m polar_hull[p] \u001b[39m=\u001b[39m \u001b[39mNone\u001b[39;00m\n\u001b[0;32m     81\u001b[0m hull_points[p] \u001b[39m=\u001b[39m \u001b[39mNone\u001b[39;00m\n",
      "File \u001b[1;32mc:\\Users\\Gabri\\AppData\\Local\\Programs\\Python\\Python310\\lib\\site-packages\\sortedcontainers\\sorteddict.py:439\u001b[0m, in \u001b[0;36mSortedDict.pop\u001b[1;34m(self, key, default)\u001b[0m\n\u001b[0;32m    415\u001b[0m \u001b[39m\u001b[39m\u001b[39m\"\"\"Remove and return value for item identified by `key`.\u001b[39;00m\n\u001b[0;32m    416\u001b[0m \n\u001b[0;32m    417\u001b[0m \u001b[39mIf the `key` is not found then return `default` if given. If `default`\u001b[39;00m\n\u001b[1;32m   (...)\u001b[0m\n\u001b[0;32m    436\u001b[0m \n\u001b[0;32m    437\u001b[0m \u001b[39m\"\"\"\u001b[39;00m\n\u001b[0;32m    438\u001b[0m \u001b[39mif\u001b[39;00m key \u001b[39min\u001b[39;00m \u001b[39mself\u001b[39m:\n\u001b[1;32m--> 439\u001b[0m     \u001b[39mself\u001b[39;49m\u001b[39m.\u001b[39;49m_list_remove(key)\n\u001b[0;32m    440\u001b[0m     \u001b[39mreturn\u001b[39;00m \u001b[39mdict\u001b[39m\u001b[39m.\u001b[39mpop(\u001b[39mself\u001b[39m, key)\n\u001b[0;32m    441\u001b[0m \u001b[39melse\u001b[39;00m:\n",
      "File \u001b[1;32mc:\\Users\\Gabri\\AppData\\Local\\Programs\\Python\\Python310\\lib\\site-packages\\sortedcontainers\\sortedlist.py:2041\u001b[0m, in \u001b[0;36mSortedKeyList.remove\u001b[1;34m(self, value)\u001b[0m\n\u001b[0;32m   2039\u001b[0m \u001b[39mwhile\u001b[39;00m \u001b[39mTrue\u001b[39;00m:\n\u001b[0;32m   2040\u001b[0m     \u001b[39mif\u001b[39;00m _keys[pos][idx] \u001b[39m!=\u001b[39m key:\n\u001b[1;32m-> 2041\u001b[0m         \u001b[39mraise\u001b[39;00m \u001b[39mValueError\u001b[39;00m(\u001b[39m'\u001b[39m\u001b[39m{0!r}\u001b[39;00m\u001b[39m not in list\u001b[39m\u001b[39m'\u001b[39m\u001b[39m.\u001b[39mformat(value))\n\u001b[0;32m   2042\u001b[0m     \u001b[39mif\u001b[39;00m _lists[pos][idx] \u001b[39m==\u001b[39m value:\n\u001b[0;32m   2043\u001b[0m         \u001b[39mself\u001b[39m\u001b[39m.\u001b[39m_delete(pos, idx)\n",
      "\u001b[1;31mValueError\u001b[0m: <__main__.Point object at 0x0000024FEAB87220> not in list"
     ]
    }
   ],
   "source": [
    "Point.Reset()\n",
    "Segment.Reset()\n",
    "rbt = SortedDict(lambda p: p.x)\n",
    "#Test convex hull\n",
    "p1 = Point(1,0)\n",
    "p2 = Point(2,3)\n",
    "p3 = Point(5,2)\n",
    "p4 = Point(6,5)\n",
    "p5 = Point(0,4)\n",
    "\n",
    "rbt[p1] = None\n",
    "rbt[p2] = None\n",
    "rbt[p3] = None\n",
    "rbt[p4] = None\n",
    "rbt[p5] = None\n",
    "#PrintPoints(rbt)\n",
    "ch, ph = ConvexHullA_BUG_NO_SISTEMA_ALGUEM_ME_DESCONFIGUROU(rbt)\n",
    "PrintPoints(ch)\n",
    "#PrintHullA(ph)"
   ]
  },
  {
   "cell_type": "markdown",
   "metadata": {},
   "source": [
    "## Sweep Line"
   ]
  },
  {
   "cell_type": "code",
   "execution_count": 245,
   "metadata": {},
   "outputs": [],
   "source": [
    "def GetSegments(polar_hull):\n",
    "    #polar_hull = SortedDict()\n",
    "    #for key in convex_hull.keys():\n",
    "    #    polar_hull[key] = None\n",
    "    n = len(polar_hull)\n",
    "    keys = list(polar_hull.keys())\n",
    "    segments_hull = SortedDict()\n",
    "    count = 0\n",
    "    for key in polar_hull.keys():\n",
    "        shake = np.random.uniform(0, 1e-5, (2,2))\n",
    "        next_key = keys[(count + 1) % n]\n",
    "        if key.x<next_key.x:\n",
    "            shake[1][0] *= -1\n",
    "        else:\n",
    "            shake[0][0] *= -1\n",
    "        if key.y<next_key.y:\n",
    "            shake[1][1] *= -1\n",
    "        else:\n",
    "            shake[0][1] *= -1\n",
    "        s = Segment(key+shake[0],next_key+shake[1])\n",
    "        count+=1\n",
    "        segments_hull[s.bgn.x] = (s,0)\n",
    "        segments_hull[s.end.x] = (s,1)\n",
    "    return segments_hull"
   ]
  },
  {
   "cell_type": "code",
   "execution_count": 246,
   "metadata": {},
   "outputs": [],
   "source": [
    "def SweepLine(segment_hull_one, segments_hull_two):\n",
    "    segments_set = segment_hull_one.copy()\n",
    "    segments_set.update(segments_hull_two)\n",
    "    scope = SortedDict()\n",
    "    for key in segments_set.keys():\n",
    "        print(key)\n",
    "        current_segment, end = segments_set[key]\n",
    "        if not end: #início do segmento\n",
    "            print(f\"Início do segmento {current_segment.id}\")\n",
    "            comparisons = dict()\n",
    "            for comparable_segment in scope.keys():\n",
    "                aux = (current_segment.bgn.y>comparable_segment.Y_At_X(key))\n",
    "                comparisons[comparable_segment] = aux\n",
    "                scope[comparable_segment][current_segment] = not aux\n",
    "            scope[current_segment] = comparisons\n",
    "            PrintScope(scope)\n",
    "            \n",
    "        else:                          #fim do segmento\n",
    "            print(f\"Fim do segmento {current_segment.id}\")\n",
    "            comparisons = scope[current_segment]\n",
    "            PrintScope(scope)\n",
    "            del scope[current_segment]\n",
    "            for comparable_segment in scope.keys():\n",
    "                aux = (current_segment.end.y>comparable_segment.Y_At_X(key))\n",
    "                if comparisons[comparable_segment] != aux:\n",
    "                    print(f\"Inteseção entre {current_segment.id} e {comparable_segment.id}\")\n",
    "                    return True\n",
    "            \n",
    "    return False"
   ]
  },
  {
   "cell_type": "markdown",
   "metadata": {},
   "source": [
    "## Display"
   ]
  },
  {
   "cell_type": "markdown",
   "metadata": {},
   "source": [
    "## Testing"
   ]
  },
  {
   "cell_type": "code",
   "execution_count": 286,
   "metadata": {},
   "outputs": [
    {
     "name": "stdout",
     "output_type": "stream",
     "text": [
      "1: 1.0   0.0\n",
      "1: 2.0   2.0\n",
      "1: 0.0   2.0\n"
     ]
    }
   ],
   "source": [
    "Point.Reset()\n",
    "p1 = Point(1,0, shake=0)\n",
    "p2 = Point(0,2, shake=0)\n",
    "p3 = Point(2,2, shake=0)\n",
    "Point.Reset()\n",
    "polar_set = SortedDict()      #Points are being sorted according to polar coordinate\n",
    "polar_set[p1] = None\n",
    "polar_set[p2] = None\n",
    "polar_set[p3] = None\n",
    "for key in polar_set.keys():\n",
    "    print(key)"
   ]
  },
  {
   "cell_type": "code",
   "execution_count": 287,
   "metadata": {},
   "outputs": [
    {
     "name": "stdout",
     "output_type": "stream",
     "text": [
      "1: 0.0   2.0\n",
      "1: 0.003   3.0\n",
      "1: 1.0   0.0\n",
      "1: 1.5   3.0\n",
      "1: 2.0   2.0\n",
      "1: 2.0   3.0\n"
     ]
    }
   ],
   "source": [
    "Point.Reset()\n",
    "p1 = Point(1,0, shake=0)\n",
    "p2 = Point(0,2, shake=0)\n",
    "p3 = Point(2,2, shake=0)\n",
    "p4 = Point(2,3, shake=0)\n",
    "p5 = Point(1.5,3, shake=0)\n",
    "p6 = Point(0.003,3, shake=0)\n",
    "Point.Reset()\n",
    "xc_set = SortedDict(X_Coord)      #Points are being sorted according to x coordinate\n",
    "xc_set[p1] = None\n",
    "xc_set[p2] = None\n",
    "xc_set[p3] = None\n",
    "xc_set[p4] = None\n",
    "xc_set[p5] = None\n",
    "xc_set[p6] = None\n",
    "for key in xc_set.keys():\n",
    "    print(key)"
   ]
  },
  {
   "cell_type": "code",
   "execution_count": 288,
   "metadata": {},
   "outputs": [
    {
     "name": "stdout",
     "output_type": "stream",
     "text": [
      "Id: 3\n",
      "Begin: -2.0000012277344568   1.000003503793361\n",
      "End: -9.635786216177255e-06   3.0000018015730707\n",
      "\n",
      "\n",
      "Id: 4\n",
      "Begin: -2.000000844071666   0.9999948763693647\n",
      "End: -1.0000058093528519   1.1117091178590356e-05\n",
      "\n",
      "\n",
      "\n",
      "\n",
      "Id: 5\n",
      "Begin: -0.9999918556141968   -8.607768181049184e-07\n",
      "End: 0.9999915939511078   1.6810789977853874e-05\n",
      "\n",
      "\n",
      "\n",
      "\n",
      "Id: 2\n",
      "Begin: -1.873987082306191e-06   3.000001763126871\n",
      "End: 1.999993387505671   0.999997650173444\n",
      "\n",
      "\n",
      "\n",
      "\n",
      "Id: 1\n",
      "Begin: 1.0000063271743114   1.0100676758938128e-05\n",
      "End: 1.9999940789385486   0.9999922710973526\n",
      "\n",
      "\n",
      "\n",
      "\n",
      "\n",
      "\n"
     ]
    }
   ],
   "source": [
    "Segment.Reset()\n",
    "Point.Reset()\n",
    "p1 = Point(-1,0)\n",
    "p2 = Point(1,0)\n",
    "p3 = Point(-2,1)\n",
    "p4 = Point(2,1)\n",
    "p5 = Point(0,3)\n",
    "pentagon = SortedDict()\n",
    "pentagon[p1] = None\n",
    "pentagon[p2] = None\n",
    "pentagon[p3] = None\n",
    "pentagon[p4] = None\n",
    "pentagon[p5] = None\n",
    "pentagon_seg = GetSegments(pentagon)       #working\n",
    "for k in pentagon_seg.keys():\n",
    "    if pentagon_seg[k][1]==0:\n",
    "        print(pentagon_seg[k][0])\n",
    "    print(\"\\n\")"
   ]
  },
  {
   "cell_type": "code",
   "execution_count": 289,
   "metadata": {},
   "outputs": [
    {
     "name": "stdout",
     "output_type": "stream",
     "text": [
      "Id: 8\n",
      "Begin: 1.0954041135061962e-05   1.9999924742657413\n",
      "End: 2.999993255112396   1.4142578361446257e-05\n",
      "\n",
      "\n",
      "Id: 7\n",
      "Begin: 1.119415172445094e-05   2.0000046217612826\n",
      "End: 2.9999881368452685   3.000000613717038\n",
      "\n",
      "\n",
      "\n",
      "\n",
      "Id: 6\n",
      "Begin: 2.9999913651493784   1.3096757315746922e-05\n",
      "End: 2.999996794509489   3.0000043682128745\n",
      "\n",
      "\n",
      "\n",
      "\n",
      "\n",
      "\n"
     ]
    }
   ],
   "source": [
    "Point.Reset()\n",
    "p1 = Point(0,2)\n",
    "p2 = Point(3,0)\n",
    "p3 = Point(3,3)\n",
    "triangle = SortedDict()\n",
    "triangle[p1] = None\n",
    "triangle[p2] = None\n",
    "triangle[p3] = None\n",
    "triangle_seg = GetSegments(triangle)\n",
    "for k in triangle_seg.keys():\n",
    "    if triangle_seg[k][1]==0:\n",
    "        print(triangle_seg[k][0])\n",
    "    print(\"\\n\")\n"
   ]
  },
  {
   "cell_type": "code",
   "execution_count": 290,
   "metadata": {},
   "outputs": [
    {
     "name": "stdout",
     "output_type": "stream",
     "text": [
      "-2.0000012277344568\n",
      "Início do segmento 3\n",
      "Vizinhos de 3: \n",
      "-2.000000844071666\n",
      "Início do segmento 4\n",
      "Vizinhos de 3: \n",
      "4: True\n",
      "Vizinhos de 4: \n",
      "3: False\n",
      "-1.0000058093528519\n",
      "Fim do segmento 4\n",
      "Vizinhos de 3: \n",
      "4: True\n",
      "Vizinhos de 4: \n",
      "3: False\n",
      "-0.9999918556141968\n",
      "Início do segmento 5\n",
      "Vizinhos de 3: \n",
      "4: True\n",
      "5: True\n",
      "Vizinhos de 5: \n",
      "3: False\n",
      "-9.635786216177255e-06\n",
      "Fim do segmento 3\n",
      "Vizinhos de 3: \n",
      "4: True\n",
      "5: True\n",
      "Vizinhos de 5: \n",
      "3: False\n",
      "-1.873987082306191e-06\n",
      "Início do segmento 2\n",
      "Vizinhos de 5: \n",
      "3: False\n",
      "2: False\n",
      "Vizinhos de 2: \n",
      "5: True\n",
      "1.0954041135061962e-05\n",
      "Início do segmento 8\n",
      "Vizinhos de 5: \n",
      "3: False\n",
      "2: False\n",
      "8: False\n",
      "Vizinhos de 2: \n",
      "5: True\n",
      "8: True\n",
      "Vizinhos de 8: \n",
      "5: True\n",
      "2: False\n",
      "1.119415172445094e-05\n",
      "Início do segmento 7\n",
      "Vizinhos de 5: \n",
      "3: False\n",
      "2: False\n",
      "8: False\n",
      "7: False\n",
      "Vizinhos de 2: \n",
      "5: True\n",
      "8: True\n",
      "7: True\n",
      "Vizinhos de 8: \n",
      "5: True\n",
      "2: False\n",
      "7: False\n",
      "Vizinhos de 7: \n",
      "5: True\n",
      "2: False\n",
      "8: True\n",
      "0.9999915939511078\n",
      "Fim do segmento 5\n",
      "Vizinhos de 5: \n",
      "3: False\n",
      "2: False\n",
      "8: False\n",
      "7: False\n",
      "Vizinhos de 2: \n",
      "5: True\n",
      "8: True\n",
      "7: True\n",
      "Vizinhos de 8: \n",
      "5: True\n",
      "2: False\n",
      "7: False\n",
      "Vizinhos de 7: \n",
      "5: True\n",
      "2: False\n",
      "8: True\n",
      "1.0000063271743114\n",
      "Início do segmento 1\n",
      "Vizinhos de 2: \n",
      "5: True\n",
      "8: True\n",
      "7: True\n",
      "1: True\n",
      "Vizinhos de 8: \n",
      "5: True\n",
      "2: False\n",
      "7: False\n",
      "1: True\n",
      "Vizinhos de 7: \n",
      "5: True\n",
      "2: False\n",
      "8: True\n",
      "1: True\n",
      "Vizinhos de 1: \n",
      "2: False\n",
      "8: False\n",
      "7: False\n",
      "1.999993387505671\n",
      "Fim do segmento 2\n",
      "Vizinhos de 2: \n",
      "5: True\n",
      "8: True\n",
      "7: True\n",
      "1: True\n",
      "Vizinhos de 8: \n",
      "5: True\n",
      "2: False\n",
      "7: False\n",
      "1: True\n",
      "Vizinhos de 7: \n",
      "5: True\n",
      "2: False\n",
      "8: True\n",
      "1: True\n",
      "Vizinhos de 1: \n",
      "2: False\n",
      "8: False\n",
      "7: False\n",
      "Inteseção entre 2 e 7\n"
     ]
    },
    {
     "data": {
      "text/plain": [
       "True"
      ]
     },
     "execution_count": 290,
     "metadata": {},
     "output_type": "execute_result"
    }
   ],
   "source": [
    "SweepLine(triangle_seg,pentagon_seg)"
   ]
  },
  {
   "cell_type": "markdown",
   "metadata": {},
   "source": [
    "## Data Load and Modelling"
   ]
  },
  {
   "cell_type": "markdown",
   "metadata": {},
   "source": [
    "### Obesity Classification(TO-DO)"
   ]
  },
  {
   "cell_type": "code",
   "execution_count": 292,
   "metadata": {},
   "outputs": [],
   "source": [
    "#Source = https://archive.ics.uci.edu/dataset/544/estimation+of+obesity+levels+based+on+eating+habits+and+physical+condition\n",
    "obesity_data = pd.read_csv(\"./dataSets/ObesityDataSet_raw_and_data_sinthetic.csv\")"
   ]
  },
  {
   "cell_type": "code",
   "execution_count": 294,
   "metadata": {},
   "outputs": [],
   "source": [
    "iris_data = pd.read_csv(\"./dataSets/Iris.csv\")"
   ]
  },
  {
   "cell_type": "markdown",
   "metadata": {},
   "source": [
    "### Spam classification"
   ]
  },
  {
   "cell_type": "code",
   "execution_count": 388,
   "metadata": {},
   "outputs": [],
   "source": [
    "#Source = https://archive.ics.uci.edu/dataset/94/spambase\n",
    "spambase_data = pd.read_csv(\"./dataSets/spambase/spambase.data\",header=None)\n",
    "pca = PCA(2)\n",
    "data = pca.fit_transform(spambase_data.iloc[:,:-1])\n",
    "label = spambase_data.iloc[:,-1]"
   ]
  },
  {
   "cell_type": "code",
   "execution_count": 393,
   "metadata": {},
   "outputs": [
    {
     "data": {
      "text/plain": [
       "57\n",
       "0    2788\n",
       "1    1813\n",
       "Name: count, dtype: int64"
      ]
     },
     "execution_count": 393,
     "metadata": {},
     "output_type": "execute_result"
    }
   ],
   "source": [
    "#Duas Classes\n",
    "label.value_counts()"
   ]
  },
  {
   "cell_type": "code",
   "execution_count": 394,
   "metadata": {},
   "outputs": [
    {
     "data": {
      "text/plain": [
       "<matplotlib.collections.PathCollection at 0x24ff1f0a410>"
      ]
     },
     "execution_count": 394,
     "metadata": {},
     "output_type": "execute_result"
    },
    {
     "data": {
      "image/png": "[encoded data removed]",
      "text/plain": [
       "<Figure size 640x480 with 1 Axes>"
      ]
     },
     "metadata": {},
     "output_type": "display_data"
    }
   ],
   "source": [
    "color = ['red' if l == 0 else 'blue' for l in label]\n",
    "plt.scatter(data[:,0],data[:,1],color=color)"
   ]
  },
  {
   "cell_type": "markdown",
   "metadata": {},
   "source": [
    "### Haberman"
   ]
  },
  {
   "cell_type": "code",
   "execution_count": 413,
   "metadata": {},
   "outputs": [],
   "source": [
    "#Source = https://archive.ics.uci.edu/dataset/43/haberman+s+survival\n",
    "haberman = pd.read_csv(\"./dataSets/haberman+s+survival/haberman.data\",header=None)\n",
    "pca = PCA(2)\n",
    "data = pca.fit_transform(haberman.iloc[:,:-1])\n",
    "label = haberman.iloc[:,-1]"
   ]
  },
  {
   "cell_type": "code",
   "execution_count": 414,
   "metadata": {},
   "outputs": [
    {
     "data": {
      "text/plain": [
       "3\n",
       "1    225\n",
       "2     81\n",
       "Name: count, dtype: int64"
      ]
     },
     "execution_count": 414,
     "metadata": {},
     "output_type": "execute_result"
    }
   ],
   "source": [
    "#Duas classes\n",
    "label.value_counts()"
   ]
  },
  {
   "cell_type": "code",
   "execution_count": 415,
   "metadata": {},
   "outputs": [
    {
     "data": {
      "text/plain": [
       "<matplotlib.collections.PathCollection at 0x24ff229e3b0>"
      ]
     },
     "execution_count": 415,
     "metadata": {},
     "output_type": "execute_result"
    },
    {
     "data": {
      "image/png": "[encoded data removed]",
      "text/plain": [
       "<Figure size 640x480 with 1 Axes>"
      ]
     },
     "metadata": {},
     "output_type": "display_data"
    }
   ],
   "source": [
    "color = ['red' if l == 1 else 'blue' for l in label]\n",
    "plt.scatter(data[:,0],data[:,1], color=color)\n",
    "plt.show()"
   ]
  },
  {
   "cell_type": "markdown",
   "metadata": {},
   "source": [
    "### Pen Writing Recognition"
   ]
  },
  {
   "cell_type": "code",
   "execution_count": 445,
   "metadata": {},
   "outputs": [],
   "source": [
    "#Source = https://archive.ics.uci.edu/dataset/81/pen+based+recognition+of+handwritten+digits\n",
    "pen_recog_training = pd.read_csv(\"./dataSets/pen+based+recognition+of+handwritten+digits/pendigits.tra\",header=None)\n",
    "pen_recog_test = pd.read_csv(\"./dataSets/pen+based+recognition+of+handwritten+digits/pendigits.tes\",header=None)\n",
    "pen_recog = pd.concat([pen_recog_training,pen_recog_test],axis=0)"
   ]
  },
  {
   "cell_type": "code",
   "execution_count": 446,
   "metadata": {},
   "outputs": [],
   "source": [
    "pca = PCA(2)\n",
    "data = pca.fit_transform(pen_recog.iloc[:,:-1])\n",
    "label_orig = pen_recog.iloc[:,-1]"
   ]
  },
  {
   "cell_type": "code",
   "execution_count": 447,
   "metadata": {},
   "outputs": [
    {
     "data": {
      "text/plain": [
       "16\n",
       "2    1144\n",
       "4    1144\n",
       "1    1143\n",
       "0    1143\n",
       "7    1142\n",
       "6    1056\n",
       "8    1055\n",
       "5    1055\n",
       "9    1055\n",
       "3    1055\n",
       "Name: count, dtype: int64"
      ]
     },
     "execution_count": 447,
     "metadata": {},
     "output_type": "execute_result"
    }
   ],
   "source": [
    "#Dez classes\n",
    "label_orig.value_counts()"
   ]
  },
  {
   "cell_type": "code",
   "execution_count": 456,
   "metadata": {},
   "outputs": [
    {
     "data": {
      "text/plain": [
       "16\n",
       "1    9937\n",
       "0    1055\n",
       "Name: count, dtype: int64"
      ]
     },
     "execution_count": 456,
     "metadata": {},
     "output_type": "execute_result"
    }
   ],
   "source": [
    "#Convertida para duas (Se o dígito escrito for menor que 5)\n",
    "label = (label_orig < 9).astype(int)\n",
    "label.value_counts()"
   ]
  },
  {
   "cell_type": "code",
   "execution_count": 457,
   "metadata": {},
   "outputs": [
    {
     "data": {
      "image/png": "[encoded data removed]",
      "text/plain": [
       "<Figure size 640x480 with 1 Axes>"
      ]
     },
     "metadata": {},
     "output_type": "display_data"
    }
   ],
   "source": [
    "color = ['red' if l == 1 else 'blue' for l in label]\n",
    "plt.scatter(data[:,0],data[:,1], color=color)\n",
    "plt.show()"
   ]
  },
  {
   "cell_type": "markdown",
   "metadata": {},
   "source": [
    "### Yeast (TO-DO)"
   ]
  },
  {
   "cell_type": "code",
   "execution_count": 458,
   "metadata": {},
   "outputs": [],
   "source": [
    "#Source = https://archive.ics.uci.edu/dataset/110/yeast\n",
    "#Tive que fazer algumas modificações no arquivo direto no excel para mudar a delimitação do arquivo csv e alinhar algumas linhas que não estavam alinhadas com as colunas\n",
    "yeast = pd.read_csv(\"./dataSets/yeast/yeast.data.csv\",sep=\";\",header=None)"
   ]
  },
  {
   "cell_type": "code",
   "execution_count": 459,
   "metadata": {},
   "outputs": [
    {
     "data": {
      "text/html": [
       "<div>\n",
       "<style scoped>\n",
       "    .dataframe tbody tr th:only-of-type {\n",
       "        vertical-align: middle;\n",
       "    }\n",
       "\n",
       "    .dataframe tbody tr th {\n",
       "        vertical-align: top;\n",
       "    }\n",
       "\n",
       "    .dataframe thead th {\n",
       "        text-align: right;\n",
       "    }\n",
       "</style>\n",
       "<table border=\"1\" class=\"dataframe\">\n",
       "  <thead>\n",
       "    <tr style=\"text-align: right;\">\n",
       "      <th></th>\n",
       "      <th>0</th>\n",
       "      <th>1</th>\n",
       "      <th>2</th>\n",
       "      <th>3</th>\n",
       "      <th>4</th>\n",
       "      <th>5</th>\n",
       "      <th>6</th>\n",
       "      <th>7</th>\n",
       "      <th>8</th>\n",
       "      <th>9</th>\n",
       "    </tr>\n",
       "  </thead>\n",
       "  <tbody>\n",
       "    <tr>\n",
       "      <th>0</th>\n",
       "      <td>ADT1_YEAST</td>\n",
       "      <td>0.58</td>\n",
       "      <td>0.61</td>\n",
       "      <td>0.47</td>\n",
       "      <td>0.13</td>\n",
       "      <td>0.5</td>\n",
       "      <td>0.0</td>\n",
       "      <td>0.48</td>\n",
       "      <td>0.22</td>\n",
       "      <td>MIT</td>\n",
       "    </tr>\n",
       "    <tr>\n",
       "      <th>1</th>\n",
       "      <td>ADT2_YEAST</td>\n",
       "      <td>0.43</td>\n",
       "      <td>0.67</td>\n",
       "      <td>0.48</td>\n",
       "      <td>0.27</td>\n",
       "      <td>0.5</td>\n",
       "      <td>0.0</td>\n",
       "      <td>0.53</td>\n",
       "      <td>0.22</td>\n",
       "      <td>MIT</td>\n",
       "    </tr>\n",
       "    <tr>\n",
       "      <th>2</th>\n",
       "      <td>ADT3_YEAST</td>\n",
       "      <td>0.64</td>\n",
       "      <td>0.62</td>\n",
       "      <td>0.49</td>\n",
       "      <td>0.15</td>\n",
       "      <td>0.5</td>\n",
       "      <td>0.0</td>\n",
       "      <td>0.53</td>\n",
       "      <td>0.22</td>\n",
       "      <td>MIT</td>\n",
       "    </tr>\n",
       "    <tr>\n",
       "      <th>3</th>\n",
       "      <td>AAR2_YEAST</td>\n",
       "      <td>0.58</td>\n",
       "      <td>0.44</td>\n",
       "      <td>0.57</td>\n",
       "      <td>0.13</td>\n",
       "      <td>0.5</td>\n",
       "      <td>0.0</td>\n",
       "      <td>0.54</td>\n",
       "      <td>0.22</td>\n",
       "      <td>NUC</td>\n",
       "    </tr>\n",
       "    <tr>\n",
       "      <th>4</th>\n",
       "      <td>AATM_YEAST</td>\n",
       "      <td>0.42</td>\n",
       "      <td>0.44</td>\n",
       "      <td>0.48</td>\n",
       "      <td>0.54</td>\n",
       "      <td>0.5</td>\n",
       "      <td>0.0</td>\n",
       "      <td>0.48</td>\n",
       "      <td>0.22</td>\n",
       "      <td>MIT</td>\n",
       "    </tr>\n",
       "    <tr>\n",
       "      <th>...</th>\n",
       "      <td>...</td>\n",
       "      <td>...</td>\n",
       "      <td>...</td>\n",
       "      <td>...</td>\n",
       "      <td>...</td>\n",
       "      <td>...</td>\n",
       "      <td>...</td>\n",
       "      <td>...</td>\n",
       "      <td>...</td>\n",
       "      <td>...</td>\n",
       "    </tr>\n",
       "    <tr>\n",
       "      <th>1479</th>\n",
       "      <td>YUR1_YEAST</td>\n",
       "      <td>0.81</td>\n",
       "      <td>0.62</td>\n",
       "      <td>0.43</td>\n",
       "      <td>0.17</td>\n",
       "      <td>0.5</td>\n",
       "      <td>0.0</td>\n",
       "      <td>0.53</td>\n",
       "      <td>0.22</td>\n",
       "      <td>ME2</td>\n",
       "    </tr>\n",
       "    <tr>\n",
       "      <th>1480</th>\n",
       "      <td>ZIP1_YEAST</td>\n",
       "      <td>0.47</td>\n",
       "      <td>0.43</td>\n",
       "      <td>0.61</td>\n",
       "      <td>0.40</td>\n",
       "      <td>0.5</td>\n",
       "      <td>0.0</td>\n",
       "      <td>0.48</td>\n",
       "      <td>0.47</td>\n",
       "      <td>NUC</td>\n",
       "    </tr>\n",
       "    <tr>\n",
       "      <th>1481</th>\n",
       "      <td>ZNRP_YEAST</td>\n",
       "      <td>0.67</td>\n",
       "      <td>0.57</td>\n",
       "      <td>0.36</td>\n",
       "      <td>0.19</td>\n",
       "      <td>0.5</td>\n",
       "      <td>0.0</td>\n",
       "      <td>0.56</td>\n",
       "      <td>0.22</td>\n",
       "      <td>ME2</td>\n",
       "    </tr>\n",
       "    <tr>\n",
       "      <th>1482</th>\n",
       "      <td>ZUO1_YEAST</td>\n",
       "      <td>0.43</td>\n",
       "      <td>0.40</td>\n",
       "      <td>0.60</td>\n",
       "      <td>0.16</td>\n",
       "      <td>0.5</td>\n",
       "      <td>0.0</td>\n",
       "      <td>0.53</td>\n",
       "      <td>0.39</td>\n",
       "      <td>NUC</td>\n",
       "    </tr>\n",
       "    <tr>\n",
       "      <th>1483</th>\n",
       "      <td>G6PD_YEAST</td>\n",
       "      <td>0.65</td>\n",
       "      <td>0.54</td>\n",
       "      <td>0.54</td>\n",
       "      <td>0.13</td>\n",
       "      <td>0.5</td>\n",
       "      <td>0.0</td>\n",
       "      <td>0.53</td>\n",
       "      <td>0.22</td>\n",
       "      <td>CYT</td>\n",
       "    </tr>\n",
       "  </tbody>\n",
       "</table>\n",
       "<p>1484 rows × 10 columns</p>\n",
       "</div>"
      ],
      "text/plain": [
       "               0     1     2     3     4    5    6     7     8    9\n",
       "0     ADT1_YEAST  0.58  0.61  0.47  0.13  0.5  0.0  0.48  0.22  MIT\n",
       "1     ADT2_YEAST  0.43  0.67  0.48  0.27  0.5  0.0  0.53  0.22  MIT\n",
       "2     ADT3_YEAST  0.64  0.62  0.49  0.15  0.5  0.0  0.53  0.22  MIT\n",
       "3     AAR2_YEAST  0.58  0.44  0.57  0.13  0.5  0.0  0.54  0.22  NUC\n",
       "4     AATM_YEAST  0.42  0.44  0.48  0.54  0.5  0.0  0.48  0.22  MIT\n",
       "...          ...   ...   ...   ...   ...  ...  ...   ...   ...  ...\n",
       "1479  YUR1_YEAST  0.81  0.62  0.43  0.17  0.5  0.0  0.53  0.22  ME2\n",
       "1480  ZIP1_YEAST  0.47  0.43  0.61  0.40  0.5  0.0  0.48  0.47  NUC\n",
       "1481  ZNRP_YEAST  0.67  0.57  0.36  0.19  0.5  0.0  0.56  0.22  ME2\n",
       "1482  ZUO1_YEAST  0.43  0.40  0.60  0.16  0.5  0.0  0.53  0.39  NUC\n",
       "1483  G6PD_YEAST  0.65  0.54  0.54  0.13  0.5  0.0  0.53  0.22  CYT\n",
       "\n",
       "[1484 rows x 10 columns]"
      ]
     },
     "execution_count": 459,
     "metadata": {},
     "output_type": "execute_result"
    }
   ],
   "source": [
    "pca = PCA(2)\n",
    "data = pca.fit_transform(pen_recog.iloc[:,:-1])\n",
    "label_orig = pen_recog.iloc[:,-1]"
   ]
  },
  {
   "cell_type": "markdown",
   "metadata": {},
   "source": [
    "### Balance (TO-DO)"
   ]
  },
  {
   "cell_type": "code",
   "execution_count": 331,
   "metadata": {},
   "outputs": [],
   "source": [
    "#Source = https://sci2s.ugr.es/keel/dataset.php?cod=54\n",
    "balance = pd.read_csv(\"./dataSets/balance.dat.csv\",header=None)"
   ]
  },
  {
   "cell_type": "markdown",
   "metadata": {},
   "source": [
    "### Banana Classification(TO-DO [Maybe Change to another dataset])"
   ]
  },
  {
   "cell_type": "code",
   "execution_count": 345,
   "metadata": {},
   "outputs": [],
   "source": [
    "#Source = https://sci2s.ugr.es/keel/dataset.php?cod=182\n",
    "banana = pd.read_csv(\"./dataSets/banana.dat\",header=None)"
   ]
  },
  {
   "cell_type": "code",
   "execution_count": 467,
   "metadata": {},
   "outputs": [
    {
     "data": {
      "text/plain": [
       "<matplotlib.collections.PathCollection at 0x24ff28fa3e0>"
      ]
     },
     "execution_count": 467,
     "metadata": {},
     "output_type": "execute_result"
    },
    {
     "data": {
      "image/png": "[encoded data removed]",
      "text/plain": [
       "<Figure size 640x480 with 1 Axes>"
      ]
     },
     "metadata": {},
     "output_type": "display_data"
    }
   ],
   "source": [
    "plt.scatter(banana.iloc[:,0],banana.iloc[:,1])"
   ]
  },
  {
   "cell_type": "markdown",
   "metadata": {},
   "source": [
    "### Hayes Roth (TO-DO)"
   ]
  },
  {
   "cell_type": "code",
   "execution_count": 347,
   "metadata": {},
   "outputs": [],
   "source": [
    "#Source = https://sci2s.ugr.es/keel/dataset.php?cod=186\n",
    "hayes_r = pd.read_csv(\"./dataSets/hayes-roth.dat\",header=None,sep=\",\")"
   ]
  },
  {
   "cell_type": "markdown",
   "metadata": {},
   "source": [
    "### Titanic Survival (TO-DO)"
   ]
  },
  {
   "cell_type": "code",
   "execution_count": 349,
   "metadata": {},
   "outputs": [],
   "source": [
    "#Source = https://sci2s.ugr.es/keel/dataset.php?cod=189\n",
    "titanic = pd.read_csv(\"./dataSets/titanic.dat\",header=None,sep=\",\")"
   ]
  }
 ],
 "metadata": {
  "kernelspec": {
   "display_name": "Python 3",
   "language": "python",
   "name": "python3"
  },
  "language_info": {
   "codemirror_mode": {
    "name": "ipython",
    "version": 3
   },
   "file_extension": ".py",
   "mimetype": "text/x-python",
   "name": "python",
   "nbconvert_exporter": "python",
   "pygments_lexer": "ipython3",
   "version": "3.9.16"
  }
 },
 "nbformat": 4,
 "nbformat_minor": 2
}
